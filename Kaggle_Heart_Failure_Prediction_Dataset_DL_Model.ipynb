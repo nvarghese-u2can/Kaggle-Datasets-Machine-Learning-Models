{
  "nbformat": 4,
  "nbformat_minor": 0,
  "metadata": {
    "colab": {
      "name": "Kaggle_Heart Failure Prediction Dataset_DL_Model.ipynb",
      "provenance": [],
      "collapsed_sections": []
    },
    "kernelspec": {
      "name": "python3",
      "display_name": "Python 3"
    },
    "language_info": {
      "name": "python"
    }
  },
  "cells": [
    {
      "cell_type": "code",
      "metadata": {
        "id": "eWNEIJlAxh7v"
      },
      "source": [
        "import numpy as np\n",
        "import pandas as pd\n",
        "import matplotlib.pyplot as plt\n",
        "import seaborn as sns"
      ],
      "execution_count": 36,
      "outputs": []
    },
    {
      "cell_type": "code",
      "metadata": {
        "colab": {
          "base_uri": "https://localhost:8080/",
          "height": 226
        },
        "id": "Mn6l3GIQx6jg",
        "outputId": "7d722b82-9bcd-4a6a-b98f-555f9ddd4f43"
      },
      "source": [
        "dataset = pd.read_csv('heart.csv')\n",
        "dataset.head(5)"
      ],
      "execution_count": 37,
      "outputs": [
        {
          "output_type": "execute_result",
          "data": {
            "text/html": [
              "<div>\n",
              "<style scoped>\n",
              "    .dataframe tbody tr th:only-of-type {\n",
              "        vertical-align: middle;\n",
              "    }\n",
              "\n",
              "    .dataframe tbody tr th {\n",
              "        vertical-align: top;\n",
              "    }\n",
              "\n",
              "    .dataframe thead th {\n",
              "        text-align: right;\n",
              "    }\n",
              "</style>\n",
              "<table border=\"1\" class=\"dataframe\">\n",
              "  <thead>\n",
              "    <tr style=\"text-align: right;\">\n",
              "      <th></th>\n",
              "      <th>Age</th>\n",
              "      <th>Sex</th>\n",
              "      <th>ChestPainType</th>\n",
              "      <th>RestingBP</th>\n",
              "      <th>Cholesterol</th>\n",
              "      <th>FastingBS</th>\n",
              "      <th>RestingECG</th>\n",
              "      <th>MaxHR</th>\n",
              "      <th>ExerciseAngina</th>\n",
              "      <th>Oldpeak</th>\n",
              "      <th>ST_Slope</th>\n",
              "      <th>HeartDisease</th>\n",
              "    </tr>\n",
              "  </thead>\n",
              "  <tbody>\n",
              "    <tr>\n",
              "      <th>0</th>\n",
              "      <td>40</td>\n",
              "      <td>M</td>\n",
              "      <td>ATA</td>\n",
              "      <td>140</td>\n",
              "      <td>289</td>\n",
              "      <td>0</td>\n",
              "      <td>Normal</td>\n",
              "      <td>172</td>\n",
              "      <td>N</td>\n",
              "      <td>0.0</td>\n",
              "      <td>Up</td>\n",
              "      <td>0</td>\n",
              "    </tr>\n",
              "    <tr>\n",
              "      <th>1</th>\n",
              "      <td>49</td>\n",
              "      <td>F</td>\n",
              "      <td>NAP</td>\n",
              "      <td>160</td>\n",
              "      <td>180</td>\n",
              "      <td>0</td>\n",
              "      <td>Normal</td>\n",
              "      <td>156</td>\n",
              "      <td>N</td>\n",
              "      <td>1.0</td>\n",
              "      <td>Flat</td>\n",
              "      <td>1</td>\n",
              "    </tr>\n",
              "    <tr>\n",
              "      <th>2</th>\n",
              "      <td>37</td>\n",
              "      <td>M</td>\n",
              "      <td>ATA</td>\n",
              "      <td>130</td>\n",
              "      <td>283</td>\n",
              "      <td>0</td>\n",
              "      <td>ST</td>\n",
              "      <td>98</td>\n",
              "      <td>N</td>\n",
              "      <td>0.0</td>\n",
              "      <td>Up</td>\n",
              "      <td>0</td>\n",
              "    </tr>\n",
              "    <tr>\n",
              "      <th>3</th>\n",
              "      <td>48</td>\n",
              "      <td>F</td>\n",
              "      <td>ASY</td>\n",
              "      <td>138</td>\n",
              "      <td>214</td>\n",
              "      <td>0</td>\n",
              "      <td>Normal</td>\n",
              "      <td>108</td>\n",
              "      <td>Y</td>\n",
              "      <td>1.5</td>\n",
              "      <td>Flat</td>\n",
              "      <td>1</td>\n",
              "    </tr>\n",
              "    <tr>\n",
              "      <th>4</th>\n",
              "      <td>54</td>\n",
              "      <td>M</td>\n",
              "      <td>NAP</td>\n",
              "      <td>150</td>\n",
              "      <td>195</td>\n",
              "      <td>0</td>\n",
              "      <td>Normal</td>\n",
              "      <td>122</td>\n",
              "      <td>N</td>\n",
              "      <td>0.0</td>\n",
              "      <td>Up</td>\n",
              "      <td>0</td>\n",
              "    </tr>\n",
              "  </tbody>\n",
              "</table>\n",
              "</div>"
            ],
            "text/plain": [
              "   Age Sex ChestPainType  ...  Oldpeak  ST_Slope  HeartDisease\n",
              "0   40   M           ATA  ...      0.0        Up             0\n",
              "1   49   F           NAP  ...      1.0      Flat             1\n",
              "2   37   M           ATA  ...      0.0        Up             0\n",
              "3   48   F           ASY  ...      1.5      Flat             1\n",
              "4   54   M           NAP  ...      0.0        Up             0\n",
              "\n",
              "[5 rows x 12 columns]"
            ]
          },
          "metadata": {},
          "execution_count": 37
        }
      ]
    },
    {
      "cell_type": "code",
      "metadata": {
        "colab": {
          "base_uri": "https://localhost:8080/"
        },
        "id": "YOv6ZhmLyFr5",
        "outputId": "9252cd62-f7f6-480e-bda5-d5bf6a0b36d6"
      },
      "source": [
        "dataset.info()"
      ],
      "execution_count": 38,
      "outputs": [
        {
          "output_type": "stream",
          "name": "stdout",
          "text": [
            "<class 'pandas.core.frame.DataFrame'>\n",
            "RangeIndex: 918 entries, 0 to 917\n",
            "Data columns (total 12 columns):\n",
            " #   Column          Non-Null Count  Dtype  \n",
            "---  ------          --------------  -----  \n",
            " 0   Age             918 non-null    int64  \n",
            " 1   Sex             918 non-null    object \n",
            " 2   ChestPainType   918 non-null    object \n",
            " 3   RestingBP       918 non-null    int64  \n",
            " 4   Cholesterol     918 non-null    int64  \n",
            " 5   FastingBS       918 non-null    int64  \n",
            " 6   RestingECG      918 non-null    object \n",
            " 7   MaxHR           918 non-null    int64  \n",
            " 8   ExerciseAngina  918 non-null    object \n",
            " 9   Oldpeak         918 non-null    float64\n",
            " 10  ST_Slope        918 non-null    object \n",
            " 11  HeartDisease    918 non-null    int64  \n",
            "dtypes: float64(1), int64(6), object(5)\n",
            "memory usage: 86.2+ KB\n"
          ]
        }
      ]
    },
    {
      "cell_type": "code",
      "metadata": {
        "colab": {
          "base_uri": "https://localhost:8080/"
        },
        "id": "tap3ezJxyJmV",
        "outputId": "f155cfa4-360d-4675-854e-455934e179ec"
      },
      "source": [
        "dataset['Sex'].value_counts()"
      ],
      "execution_count": 39,
      "outputs": [
        {
          "output_type": "execute_result",
          "data": {
            "text/plain": [
              "M    725\n",
              "F    193\n",
              "Name: Sex, dtype: int64"
            ]
          },
          "metadata": {},
          "execution_count": 39
        }
      ]
    },
    {
      "cell_type": "code",
      "metadata": {
        "colab": {
          "base_uri": "https://localhost:8080/"
        },
        "id": "jCIEgJ3wybLt",
        "outputId": "4e093c95-7ad3-47ea-f067-b79ea8b811f3"
      },
      "source": [
        "dataset['ChestPainType'].value_counts()"
      ],
      "execution_count": 40,
      "outputs": [
        {
          "output_type": "execute_result",
          "data": {
            "text/plain": [
              "ASY    496\n",
              "NAP    203\n",
              "ATA    173\n",
              "TA      46\n",
              "Name: ChestPainType, dtype: int64"
            ]
          },
          "metadata": {},
          "execution_count": 40
        }
      ]
    },
    {
      "cell_type": "code",
      "metadata": {
        "colab": {
          "base_uri": "https://localhost:8080/"
        },
        "id": "ogVpnUjDyid5",
        "outputId": "265d47b0-f301-438a-ff49-9c2fa1610d31"
      },
      "source": [
        "dataset['RestingECG'].value_counts()"
      ],
      "execution_count": 41,
      "outputs": [
        {
          "output_type": "execute_result",
          "data": {
            "text/plain": [
              "Normal    552\n",
              "LVH       188\n",
              "ST        178\n",
              "Name: RestingECG, dtype: int64"
            ]
          },
          "metadata": {},
          "execution_count": 41
        }
      ]
    },
    {
      "cell_type": "code",
      "metadata": {
        "colab": {
          "base_uri": "https://localhost:8080/"
        },
        "id": "S49dlOJ7ysKk",
        "outputId": "ea3f84d8-b1a9-40f3-8d8e-aa22559912f1"
      },
      "source": [
        "dataset['ExerciseAngina'].value_counts()"
      ],
      "execution_count": 42,
      "outputs": [
        {
          "output_type": "execute_result",
          "data": {
            "text/plain": [
              "N    547\n",
              "Y    371\n",
              "Name: ExerciseAngina, dtype: int64"
            ]
          },
          "metadata": {},
          "execution_count": 42
        }
      ]
    },
    {
      "cell_type": "code",
      "metadata": {
        "colab": {
          "base_uri": "https://localhost:8080/"
        },
        "id": "tqpCg4boy0sq",
        "outputId": "6c59cfdb-8b83-40a6-e34b-31c94fad22a4"
      },
      "source": [
        "dataset['ST_Slope'].value_counts()"
      ],
      "execution_count": 43,
      "outputs": [
        {
          "output_type": "execute_result",
          "data": {
            "text/plain": [
              "Flat    460\n",
              "Up      395\n",
              "Down     63\n",
              "Name: ST_Slope, dtype: int64"
            ]
          },
          "metadata": {},
          "execution_count": 43
        }
      ]
    },
    {
      "cell_type": "code",
      "metadata": {
        "colab": {
          "base_uri": "https://localhost:8080/"
        },
        "id": "YQqGXUVXy_9x",
        "outputId": "fbcf678b-03f8-4433-fdf6-4a057167cc2b"
      },
      "source": [
        "dataset.isnull().sum()"
      ],
      "execution_count": 44,
      "outputs": [
        {
          "output_type": "execute_result",
          "data": {
            "text/plain": [
              "Age               0\n",
              "Sex               0\n",
              "ChestPainType     0\n",
              "RestingBP         0\n",
              "Cholesterol       0\n",
              "FastingBS         0\n",
              "RestingECG        0\n",
              "MaxHR             0\n",
              "ExerciseAngina    0\n",
              "Oldpeak           0\n",
              "ST_Slope          0\n",
              "HeartDisease      0\n",
              "dtype: int64"
            ]
          },
          "metadata": {},
          "execution_count": 44
        }
      ]
    },
    {
      "cell_type": "code",
      "metadata": {
        "colab": {
          "base_uri": "https://localhost:8080/",
          "height": 266
        },
        "id": "TMtT1U3ozGT5",
        "outputId": "3251154a-df6c-4809-91f5-6ab1ba91ee5c"
      },
      "source": [
        "sns.heatmap(dataset.isna(),yticklabels=False,xticklabels=False,cbar=False)"
      ],
      "execution_count": 45,
      "outputs": [
        {
          "output_type": "execute_result",
          "data": {
            "text/plain": [
              "<matplotlib.axes._subplots.AxesSubplot at 0x7f4ab95c73d0>"
            ]
          },
          "metadata": {},
          "execution_count": 45
        },
        {
          "output_type": "display_data",
          "data": {
            "image/png": "[encoded data removed]",
            "text/plain": [
              "<Figure size 432x288 with 1 Axes>"
            ]
          },
          "metadata": {}
        }
      ]
    },
    {
      "cell_type": "code",
      "metadata": {
        "colab": {
          "base_uri": "https://localhost:8080/",
          "height": 353
        },
        "id": "QczmeTULzTAa",
        "outputId": "45670318-c83b-43ef-e650-00a2dea33d44"
      },
      "source": [
        "sns.countplot(dataset['Sex'])"
      ],
      "execution_count": 46,
      "outputs": [
        {
          "output_type": "stream",
          "name": "stderr",
          "text": [
            "/usr/local/lib/python3.7/dist-packages/seaborn/_decorators.py:43: FutureWarning: Pass the following variable as a keyword arg: x. From version 0.12, the only valid positional argument will be `data`, and passing other arguments without an explicit keyword will result in an error or misinterpretation.\n",
            "  FutureWarning\n"
          ]
        },
        {
          "output_type": "execute_result",
          "data": {
            "text/plain": [
              "<matplotlib.axes._subplots.AxesSubplot at 0x7f4a30b7b190>"
            ]
          },
          "metadata": {},
          "execution_count": 46
        },
        {
          "output_type": "display_data",
          "data": {
            "image/png": "[encoded data removed]",
            "text/plain": [
              "<Figure size 432x288 with 1 Axes>"
            ]
          },
          "metadata": {
            "needs_background": "light"
          }
        }
      ]
    },
    {
      "cell_type": "code",
      "metadata": {
        "colab": {
          "base_uri": "https://localhost:8080/",
          "height": 330
        },
        "id": "BDvIIGUyzjXa",
        "outputId": "d06b6295-b73c-4826-a5b3-db44b2f444bb"
      },
      "source": [
        "dataset.corr()['HeartDisease'].sort_values()[:-1].plot(kind='bar')"
      ],
      "execution_count": 47,
      "outputs": [
        {
          "output_type": "execute_result",
          "data": {
            "text/plain": [
              "<matplotlib.axes._subplots.AxesSubplot at 0x7f4a30add7d0>"
            ]
          },
          "metadata": {},
          "execution_count": 47
        },
        {
          "output_type": "display_data",
          "data": {
            "image/png": "[encoded data removed]",
            "text/plain": [
              "<Figure size 432x288 with 1 Axes>"
            ]
          },
          "metadata": {
            "needs_background": "light"
          }
        }
      ]
    },
    {
      "cell_type": "code",
      "metadata": {
        "colab": {
          "base_uri": "https://localhost:8080/",
          "height": 386
        },
        "id": "ZMKlpIvazvBg",
        "outputId": "4a283785-89a5-4432-b7e4-67fd44a6300f"
      },
      "source": [
        "sns.displot(x='Age',data=dataset,bins=50)"
      ],
      "execution_count": 48,
      "outputs": [
        {
          "output_type": "execute_result",
          "data": {
            "text/plain": [
              "<seaborn.axisgrid.FacetGrid at 0x7f4a30ae8150>"
            ]
          },
          "metadata": {},
          "execution_count": 48
        },
        {
          "output_type": "display_data",
          "data": {
            "image/png": "[encoded data removed]",
            "text/plain": [
              "<Figure size 360x360 with 1 Axes>"
            ]
          },
          "metadata": {
            "needs_background": "light"
          }
        }
      ]
    },
    {
      "cell_type": "code",
      "metadata": {
        "colab": {
          "base_uri": "https://localhost:8080/",
          "height": 297
        },
        "id": "Dzsk7Ze70xzX",
        "outputId": "577e41e2-e057-47bc-b66b-27a4a83481ed"
      },
      "source": [
        "sns.barplot(x='Sex',y='Age',data=dataset)"
      ],
      "execution_count": 49,
      "outputs": [
        {
          "output_type": "execute_result",
          "data": {
            "text/plain": [
              "<matplotlib.axes._subplots.AxesSubplot at 0x7f4a309d2150>"
            ]
          },
          "metadata": {},
          "execution_count": 49
        },
        {
          "output_type": "display_data",
          "data": {
            "image/png": "[encoded data removed]",
            "text/plain": [
              "<Figure size 432x288 with 1 Axes>"
            ]
          },
          "metadata": {
            "needs_background": "light"
          }
        }
      ]
    },
    {
      "cell_type": "code",
      "metadata": {
        "colab": {
          "base_uri": "https://localhost:8080/"
        },
        "id": "az-3FeYm2I4R",
        "outputId": "0191ecbb-94b1-4e28-f883-b893b136641d"
      },
      "source": [
        "dataset.columns"
      ],
      "execution_count": 50,
      "outputs": [
        {
          "output_type": "execute_result",
          "data": {
            "text/plain": [
              "Index(['Age', 'Sex', 'ChestPainType', 'RestingBP', 'Cholesterol', 'FastingBS',\n",
              "       'RestingECG', 'MaxHR', 'ExerciseAngina', 'Oldpeak', 'ST_Slope',\n",
              "       'HeartDisease'],\n",
              "      dtype='object')"
            ]
          },
          "metadata": {},
          "execution_count": 50
        }
      ]
    },
    {
      "cell_type": "code",
      "metadata": {
        "colab": {
          "base_uri": "https://localhost:8080/",
          "height": 297
        },
        "id": "lOcZDg9A1Yhu",
        "outputId": "1812400b-e96a-4275-e815-3cc94869f0c5"
      },
      "source": [
        "sns.boxplot(x='HeartDisease',y='Age',data=dataset,hue='Sex')"
      ],
      "execution_count": 51,
      "outputs": [
        {
          "output_type": "execute_result",
          "data": {
            "text/plain": [
              "<matplotlib.axes._subplots.AxesSubplot at 0x7f4a30947850>"
            ]
          },
          "metadata": {},
          "execution_count": 51
        },
        {
          "output_type": "display_data",
          "data": {
            "image/png": "[encoded data removed]",
            "text/plain": [
              "<Figure size 432x288 with 1 Axes>"
            ]
          },
          "metadata": {
            "needs_background": "light"
          }
        }
      ]
    },
    {
      "cell_type": "code",
      "metadata": {
        "colab": {
          "base_uri": "https://localhost:8080/"
        },
        "id": "xLnmrxMi1ur-",
        "outputId": "ab8f3558-aa9a-4074-f7bb-9f162e80e97a"
      },
      "source": [
        "dataset.info()"
      ],
      "execution_count": 52,
      "outputs": [
        {
          "output_type": "stream",
          "name": "stdout",
          "text": [
            "<class 'pandas.core.frame.DataFrame'>\n",
            "RangeIndex: 918 entries, 0 to 917\n",
            "Data columns (total 12 columns):\n",
            " #   Column          Non-Null Count  Dtype  \n",
            "---  ------          --------------  -----  \n",
            " 0   Age             918 non-null    int64  \n",
            " 1   Sex             918 non-null    object \n",
            " 2   ChestPainType   918 non-null    object \n",
            " 3   RestingBP       918 non-null    int64  \n",
            " 4   Cholesterol     918 non-null    int64  \n",
            " 5   FastingBS       918 non-null    int64  \n",
            " 6   RestingECG      918 non-null    object \n",
            " 7   MaxHR           918 non-null    int64  \n",
            " 8   ExerciseAngina  918 non-null    object \n",
            " 9   Oldpeak         918 non-null    float64\n",
            " 10  ST_Slope        918 non-null    object \n",
            " 11  HeartDisease    918 non-null    int64  \n",
            "dtypes: float64(1), int64(6), object(5)\n",
            "memory usage: 86.2+ KB\n"
          ]
        }
      ]
    },
    {
      "cell_type": "code",
      "metadata": {
        "id": "-xIL_8B8z1XL"
      },
      "source": [
        ""
      ],
      "execution_count": 52,
      "outputs": []
    },
    {
      "cell_type": "code",
      "metadata": {
        "id": "Opwo_tgO24HY"
      },
      "source": [
        "from sklearn.compose import ColumnTransformer\n",
        "from sklearn.preprocessing import OneHotEncoder"
      ],
      "execution_count": 53,
      "outputs": []
    },
    {
      "cell_type": "code",
      "metadata": {
        "colab": {
          "base_uri": "https://localhost:8080/"
        },
        "id": "pjoSzeic4SBA",
        "outputId": "2182a7c9-f2db-43ab-ac37-09d455387560"
      },
      "source": [
        "X = dataset.drop('HeartDisease',axis=1)\n",
        "X = X.iloc[:,:].values\n",
        "X"
      ],
      "execution_count": 54,
      "outputs": [
        {
          "output_type": "execute_result",
          "data": {
            "text/plain": [
              "array([[40, 'M', 'ATA', ..., 'N', 0.0, 'Up'],\n",
              "       [49, 'F', 'NAP', ..., 'N', 1.0, 'Flat'],\n",
              "       [37, 'M', 'ATA', ..., 'N', 0.0, 'Up'],\n",
              "       ...,\n",
              "       [57, 'M', 'ASY', ..., 'Y', 1.2, 'Flat'],\n",
              "       [57, 'F', 'ATA', ..., 'N', 0.0, 'Flat'],\n",
              "       [38, 'M', 'NAP', ..., 'N', 0.0, 'Up']], dtype=object)"
            ]
          },
          "metadata": {},
          "execution_count": 54
        }
      ]
    },
    {
      "cell_type": "code",
      "metadata": {
        "id": "65nuQZne3AYT"
      },
      "source": [
        "ct = ColumnTransformer([('OneHotEncoder',OneHotEncoder(),[1,2,6,8,10])],remainder='passthrough')"
      ],
      "execution_count": 55,
      "outputs": []
    },
    {
      "cell_type": "code",
      "metadata": {
        "id": "GvWUp-e_42Qa"
      },
      "source": [
        "X = ct.fit_transform(X)"
      ],
      "execution_count": 56,
      "outputs": []
    },
    {
      "cell_type": "code",
      "metadata": {
        "colab": {
          "base_uri": "https://localhost:8080/"
        },
        "id": "zszQrBWj47hF",
        "outputId": "f1be1411-2625-47c4-b955-f933d5e2acee"
      },
      "source": [
        "X.shape\n",
        "type(X)"
      ],
      "execution_count": 57,
      "outputs": [
        {
          "output_type": "execute_result",
          "data": {
            "text/plain": [
              "numpy.ndarray"
            ]
          },
          "metadata": {},
          "execution_count": 57
        }
      ]
    },
    {
      "cell_type": "code",
      "metadata": {
        "colab": {
          "base_uri": "https://localhost:8080/"
        },
        "id": "Ywi74uT65W99",
        "outputId": "89ac5d6a-7b20-4df1-a536-ddafbe1c2d37"
      },
      "source": [
        "y = dataset['HeartDisease'].values\n",
        "y.shape "
      ],
      "execution_count": 58,
      "outputs": [
        {
          "output_type": "execute_result",
          "data": {
            "text/plain": [
              "(918,)"
            ]
          },
          "metadata": {},
          "execution_count": 58
        }
      ]
    },
    {
      "cell_type": "code",
      "metadata": {
        "id": "f-bjUtVH48JO"
      },
      "source": [
        "from sklearn.model_selection import train_test_split"
      ],
      "execution_count": 59,
      "outputs": []
    },
    {
      "cell_type": "code",
      "metadata": {
        "id": "gU-vdWnS5OGr"
      },
      "source": [
        "X_train,X_test,y_train,y_test = train_test_split(X,y,test_size=0.30,random_state=101)"
      ],
      "execution_count": 60,
      "outputs": []
    },
    {
      "cell_type": "code",
      "metadata": {
        "colab": {
          "base_uri": "https://localhost:8080/"
        },
        "id": "HBY0aq9v10yc",
        "outputId": "e9976375-5770-4c2c-a20b-edc86eb9c1c7"
      },
      "source": [
        "from sklearn.preprocessing import StandardScaler\n",
        "scaler = StandardScaler()\n",
        "X_train = scaler.fit_transform(X_train)\n",
        "X_test = scaler.transform(X_test)\n",
        "X_train.shape"
      ],
      "execution_count": 72,
      "outputs": [
        {
          "output_type": "execute_result",
          "data": {
            "text/plain": [
              "(642, 20)"
            ]
          },
          "metadata": {},
          "execution_count": 72
        }
      ]
    },
    {
      "cell_type": "code",
      "metadata": {
        "id": "nNkvze3n5jLP"
      },
      "source": [
        "from tensorflow.keras.models import Sequential\n",
        "from tensorflow.keras.layers import Dense"
      ],
      "execution_count": 62,
      "outputs": []
    },
    {
      "cell_type": "code",
      "metadata": {
        "id": "OzRG7x5E5xGT"
      },
      "source": [
        "model = Sequential()"
      ],
      "execution_count": 63,
      "outputs": []
    },
    {
      "cell_type": "code",
      "metadata": {
        "id": "UWh-80H05ztS"
      },
      "source": [
        "model.add(Dense(20,activation ='relu'))\n",
        "model.add(Dense(20,activation='relu'))\n",
        "model.add(Dense(10,activation='relu'))\n",
        "model.add(Dense(1,activation='sigmoid'))\n"
      ],
      "execution_count": 64,
      "outputs": []
    },
    {
      "cell_type": "code",
      "metadata": {
        "id": "_wqgFI-g6DwO"
      },
      "source": [
        "model.compile(optimizer='adam',loss='binary_crossentropy')"
      ],
      "execution_count": 65,
      "outputs": []
    },
    {
      "cell_type": "code",
      "metadata": {
        "id": "-0I3laIQ7p_r"
      },
      "source": [
        "# y_train = y_train.reshape(642,-1)\n",
        "# y_test = y_test.reshape(276,-1)\n",
        "# y_train.shape"
      ],
      "execution_count": 66,
      "outputs": []
    },
    {
      "cell_type": "code",
      "metadata": {
        "colab": {
          "base_uri": "https://localhost:8080/"
        },
        "id": "StTk7u3F7FP5",
        "outputId": "b7e83c4d-cfc8-44e3-a670-29722f128f17"
      },
      "source": [
        "model.fit(X_train,y_train,epochs=500,validation_data=(X_test,y_test),verbose=1)"
      ],
      "execution_count": 67,
      "outputs": [
        {
          "output_type": "stream",
          "name": "stdout",
          "text": [
            "Epoch 1/500\n",
            "21/21 [==============================] - 1s 11ms/step - loss: 0.6697 - val_loss: 0.6450\n",
            "Epoch 2/500\n",
            "21/21 [==============================] - 0s 3ms/step - loss: 0.6086 - val_loss: 0.5893\n",
            "Epoch 3/500\n",
            "21/21 [==============================] - 0s 4ms/step - loss: 0.5432 - val_loss: 0.5240\n",
            "Epoch 4/500\n",
            "21/21 [==============================] - 0s 3ms/step - loss: 0.4732 - val_loss: 0.4622\n",
            "Epoch 5/500\n",
            "21/21 [==============================] - 0s 3ms/step - loss: 0.4081 - val_loss: 0.4117\n",
            "Epoch 6/500\n",
            "21/21 [==============================] - 0s 4ms/step - loss: 0.3583 - val_loss: 0.3835\n",
            "Epoch 7/500\n",
            "21/21 [==============================] - 0s 3ms/step - loss: 0.3293 - val_loss: 0.3740\n",
            "Epoch 8/500\n",
            "21/21 [==============================] - 0s 3ms/step - loss: 0.3134 - val_loss: 0.3705\n",
            "Epoch 9/500\n",
            "21/21 [==============================] - 0s 3ms/step - loss: 0.3036 - val_loss: 0.3710\n",
            "Epoch 10/500\n",
            "21/21 [==============================] - 0s 3ms/step - loss: 0.2941 - val_loss: 0.3694\n",
            "Epoch 11/500\n",
            "21/21 [==============================] - 0s 3ms/step - loss: 0.2899 - val_loss: 0.3640\n",
            "Epoch 12/500\n",
            "21/21 [==============================] - 0s 3ms/step - loss: 0.2843 - val_loss: 0.3655\n",
            "Epoch 13/500\n",
            "21/21 [==============================] - 0s 4ms/step - loss: 0.2812 - val_loss: 0.3664\n",
            "Epoch 14/500\n",
            "21/21 [==============================] - 0s 3ms/step - loss: 0.2759 - val_loss: 0.3656\n",
            "Epoch 15/500\n",
            "21/21 [==============================] - 0s 3ms/step - loss: 0.2731 - val_loss: 0.3678\n",
            "Epoch 16/500\n",
            "21/21 [==============================] - 0s 3ms/step - loss: 0.2726 - val_loss: 0.3688\n",
            "Epoch 17/500\n",
            "21/21 [==============================] - 0s 3ms/step - loss: 0.2669 - val_loss: 0.3650\n",
            "Epoch 18/500\n",
            "21/21 [==============================] - 0s 3ms/step - loss: 0.2652 - val_loss: 0.3636\n",
            "Epoch 19/500\n",
            "21/21 [==============================] - 0s 4ms/step - loss: 0.2640 - val_loss: 0.3670\n",
            "Epoch 20/500\n",
            "21/21 [==============================] - 0s 4ms/step - loss: 0.2623 - val_loss: 0.3645\n",
            "Epoch 21/500\n",
            "21/21 [==============================] - 0s 4ms/step - loss: 0.2576 - val_loss: 0.3645\n",
            "Epoch 22/500\n",
            "21/21 [==============================] - 0s 4ms/step - loss: 0.2554 - val_loss: 0.3687\n",
            "Epoch 23/500\n",
            "21/21 [==============================] - 0s 4ms/step - loss: 0.2526 - val_loss: 0.3656\n",
            "Epoch 24/500\n",
            "21/21 [==============================] - 0s 4ms/step - loss: 0.2503 - val_loss: 0.3649\n",
            "Epoch 25/500\n",
            "21/21 [==============================] - 0s 5ms/step - loss: 0.2497 - val_loss: 0.3671\n",
            "Epoch 26/500\n",
            "21/21 [==============================] - 0s 4ms/step - loss: 0.2474 - val_loss: 0.3610\n",
            "Epoch 27/500\n",
            "21/21 [==============================] - 0s 4ms/step - loss: 0.2456 - val_loss: 0.3616\n",
            "Epoch 28/500\n",
            "21/21 [==============================] - 0s 4ms/step - loss: 0.2428 - val_loss: 0.3613\n",
            "Epoch 29/500\n",
            "21/21 [==============================] - 0s 4ms/step - loss: 0.2402 - val_loss: 0.3601\n",
            "Epoch 30/500\n",
            "21/21 [==============================] - 0s 4ms/step - loss: 0.2374 - val_loss: 0.3633\n",
            "Epoch 31/500\n",
            "21/21 [==============================] - 0s 3ms/step - loss: 0.2344 - val_loss: 0.3635\n",
            "Epoch 32/500\n",
            "21/21 [==============================] - 0s 3ms/step - loss: 0.2329 - val_loss: 0.3686\n",
            "Epoch 33/500\n",
            "21/21 [==============================] - 0s 4ms/step - loss: 0.2292 - val_loss: 0.3659\n",
            "Epoch 34/500\n",
            "21/21 [==============================] - 0s 4ms/step - loss: 0.2266 - val_loss: 0.3691\n",
            "Epoch 35/500\n",
            "21/21 [==============================] - 0s 4ms/step - loss: 0.2247 - val_loss: 0.3712\n",
            "Epoch 36/500\n",
            "21/21 [==============================] - 0s 3ms/step - loss: 0.2230 - val_loss: 0.3667\n",
            "Epoch 37/500\n",
            "21/21 [==============================] - 0s 3ms/step - loss: 0.2249 - val_loss: 0.3660\n",
            "Epoch 38/500\n",
            "21/21 [==============================] - 0s 3ms/step - loss: 0.2196 - val_loss: 0.3695\n",
            "Epoch 39/500\n",
            "21/21 [==============================] - 0s 3ms/step - loss: 0.2158 - val_loss: 0.3692\n",
            "Epoch 40/500\n",
            "21/21 [==============================] - 0s 3ms/step - loss: 0.2132 - val_loss: 0.3671\n",
            "Epoch 41/500\n",
            "21/21 [==============================] - 0s 3ms/step - loss: 0.2116 - val_loss: 0.3697\n",
            "Epoch 42/500\n",
            "21/21 [==============================] - 0s 3ms/step - loss: 0.2106 - val_loss: 0.3704\n",
            "Epoch 43/500\n",
            "21/21 [==============================] - 0s 3ms/step - loss: 0.2058 - val_loss: 0.3685\n",
            "Epoch 44/500\n",
            "21/21 [==============================] - 0s 4ms/step - loss: 0.2042 - val_loss: 0.3702\n",
            "Epoch 45/500\n",
            "21/21 [==============================] - 0s 3ms/step - loss: 0.2024 - val_loss: 0.3686\n",
            "Epoch 46/500\n",
            "21/21 [==============================] - 0s 4ms/step - loss: 0.2006 - val_loss: 0.3686\n",
            "Epoch 47/500\n",
            "21/21 [==============================] - 0s 4ms/step - loss: 0.1976 - val_loss: 0.3740\n",
            "Epoch 48/500\n",
            "21/21 [==============================] - 0s 3ms/step - loss: 0.1957 - val_loss: 0.3755\n",
            "Epoch 49/500\n",
            "21/21 [==============================] - 0s 4ms/step - loss: 0.1948 - val_loss: 0.3769\n",
            "Epoch 50/500\n",
            "21/21 [==============================] - 0s 3ms/step - loss: 0.1907 - val_loss: 0.3734\n",
            "Epoch 51/500\n",
            "21/21 [==============================] - 0s 3ms/step - loss: 0.1893 - val_loss: 0.3752\n",
            "Epoch 52/500\n",
            "21/21 [==============================] - 0s 3ms/step - loss: 0.1871 - val_loss: 0.3788\n",
            "Epoch 53/500\n",
            "21/21 [==============================] - 0s 3ms/step - loss: 0.1852 - val_loss: 0.3852\n",
            "Epoch 54/500\n",
            "21/21 [==============================] - 0s 3ms/step - loss: 0.1835 - val_loss: 0.3870\n",
            "Epoch 55/500\n",
            "21/21 [==============================] - 0s 3ms/step - loss: 0.1793 - val_loss: 0.3861\n",
            "Epoch 56/500\n",
            "21/21 [==============================] - 0s 3ms/step - loss: 0.1776 - val_loss: 0.3928\n",
            "Epoch 57/500\n",
            "21/21 [==============================] - 0s 3ms/step - loss: 0.1736 - val_loss: 0.3849\n",
            "Epoch 58/500\n",
            "21/21 [==============================] - 0s 3ms/step - loss: 0.1716 - val_loss: 0.3889\n",
            "Epoch 59/500\n",
            "21/21 [==============================] - 0s 3ms/step - loss: 0.1690 - val_loss: 0.3898\n",
            "Epoch 60/500\n",
            "21/21 [==============================] - 0s 3ms/step - loss: 0.1663 - val_loss: 0.3958\n",
            "Epoch 61/500\n",
            "21/21 [==============================] - 0s 3ms/step - loss: 0.1630 - val_loss: 0.3940\n",
            "Epoch 62/500\n",
            "21/21 [==============================] - 0s 3ms/step - loss: 0.1648 - val_loss: 0.4001\n",
            "Epoch 63/500\n",
            "21/21 [==============================] - 0s 3ms/step - loss: 0.1608 - val_loss: 0.4038\n",
            "Epoch 64/500\n",
            "21/21 [==============================] - 0s 3ms/step - loss: 0.1566 - val_loss: 0.4070\n",
            "Epoch 65/500\n",
            "21/21 [==============================] - 0s 4ms/step - loss: 0.1546 - val_loss: 0.4068\n",
            "Epoch 66/500\n",
            "21/21 [==============================] - 0s 4ms/step - loss: 0.1518 - val_loss: 0.4092\n",
            "Epoch 67/500\n",
            "21/21 [==============================] - 0s 3ms/step - loss: 0.1480 - val_loss: 0.4139\n",
            "Epoch 68/500\n",
            "21/21 [==============================] - 0s 3ms/step - loss: 0.1490 - val_loss: 0.4133\n",
            "Epoch 69/500\n",
            "21/21 [==============================] - 0s 3ms/step - loss: 0.1429 - val_loss: 0.4199\n",
            "Epoch 70/500\n",
            "21/21 [==============================] - 0s 3ms/step - loss: 0.1450 - val_loss: 0.4257\n",
            "Epoch 71/500\n",
            "21/21 [==============================] - 0s 4ms/step - loss: 0.1411 - val_loss: 0.4270\n",
            "Epoch 72/500\n",
            "21/21 [==============================] - 0s 4ms/step - loss: 0.1369 - val_loss: 0.4325\n",
            "Epoch 73/500\n",
            "21/21 [==============================] - 0s 3ms/step - loss: 0.1330 - val_loss: 0.4363\n",
            "Epoch 74/500\n",
            "21/21 [==============================] - 0s 3ms/step - loss: 0.1324 - val_loss: 0.4422\n",
            "Epoch 75/500\n",
            "21/21 [==============================] - 0s 3ms/step - loss: 0.1323 - val_loss: 0.4534\n",
            "Epoch 76/500\n",
            "21/21 [==============================] - 0s 4ms/step - loss: 0.1260 - val_loss: 0.4524\n",
            "Epoch 77/500\n",
            "21/21 [==============================] - 0s 3ms/step - loss: 0.1236 - val_loss: 0.4597\n",
            "Epoch 78/500\n",
            "21/21 [==============================] - 0s 4ms/step - loss: 0.1217 - val_loss: 0.4607\n",
            "Epoch 79/500\n",
            "21/21 [==============================] - 0s 4ms/step - loss: 0.1187 - val_loss: 0.4667\n",
            "Epoch 80/500\n",
            "21/21 [==============================] - 0s 3ms/step - loss: 0.1180 - val_loss: 0.4703\n",
            "Epoch 81/500\n",
            "21/21 [==============================] - 0s 4ms/step - loss: 0.1155 - val_loss: 0.4776\n",
            "Epoch 82/500\n",
            "21/21 [==============================] - 0s 3ms/step - loss: 0.1187 - val_loss: 0.4967\n",
            "Epoch 83/500\n",
            "21/21 [==============================] - 0s 3ms/step - loss: 0.1150 - val_loss: 0.5023\n",
            "Epoch 84/500\n",
            "21/21 [==============================] - 0s 3ms/step - loss: 0.1102 - val_loss: 0.4894\n",
            "Epoch 85/500\n",
            "21/21 [==============================] - 0s 3ms/step - loss: 0.1226 - val_loss: 0.4986\n",
            "Epoch 86/500\n",
            "21/21 [==============================] - 0s 4ms/step - loss: 0.1096 - val_loss: 0.5065\n",
            "Epoch 87/500\n",
            "21/21 [==============================] - 0s 3ms/step - loss: 0.1068 - val_loss: 0.5000\n",
            "Epoch 88/500\n",
            "21/21 [==============================] - 0s 3ms/step - loss: 0.1016 - val_loss: 0.5012\n",
            "Epoch 89/500\n",
            "21/21 [==============================] - 0s 3ms/step - loss: 0.0999 - val_loss: 0.5114\n",
            "Epoch 90/500\n",
            "21/21 [==============================] - 0s 3ms/step - loss: 0.0966 - val_loss: 0.5100\n",
            "Epoch 91/500\n",
            "21/21 [==============================] - 0s 3ms/step - loss: 0.1031 - val_loss: 0.5270\n",
            "Epoch 92/500\n",
            "21/21 [==============================] - 0s 3ms/step - loss: 0.1022 - val_loss: 0.5575\n",
            "Epoch 93/500\n",
            "21/21 [==============================] - 0s 3ms/step - loss: 0.0965 - val_loss: 0.5431\n",
            "Epoch 94/500\n",
            "21/21 [==============================] - 0s 3ms/step - loss: 0.0997 - val_loss: 0.5338\n",
            "Epoch 95/500\n",
            "21/21 [==============================] - 0s 3ms/step - loss: 0.0937 - val_loss: 0.5464\n",
            "Epoch 96/500\n",
            "21/21 [==============================] - 0s 3ms/step - loss: 0.0882 - val_loss: 0.5454\n",
            "Epoch 97/500\n",
            "21/21 [==============================] - 0s 3ms/step - loss: 0.0855 - val_loss: 0.5570\n",
            "Epoch 98/500\n",
            "21/21 [==============================] - 0s 3ms/step - loss: 0.0835 - val_loss: 0.5561\n",
            "Epoch 99/500\n",
            "21/21 [==============================] - 0s 3ms/step - loss: 0.0872 - val_loss: 0.5620\n",
            "Epoch 100/500\n",
            "21/21 [==============================] - 0s 4ms/step - loss: 0.0872 - val_loss: 0.5658\n",
            "Epoch 101/500\n",
            "21/21 [==============================] - 0s 3ms/step - loss: 0.0817 - val_loss: 0.5637\n",
            "Epoch 102/500\n",
            "21/21 [==============================] - 0s 3ms/step - loss: 0.0794 - val_loss: 0.5728\n",
            "Epoch 103/500\n",
            "21/21 [==============================] - 0s 3ms/step - loss: 0.0770 - val_loss: 0.5816\n",
            "Epoch 104/500\n",
            "21/21 [==============================] - 0s 3ms/step - loss: 0.0785 - val_loss: 0.5897\n",
            "Epoch 105/500\n",
            "21/21 [==============================] - 0s 3ms/step - loss: 0.0756 - val_loss: 0.5970\n",
            "Epoch 106/500\n",
            "21/21 [==============================] - 0s 3ms/step - loss: 0.0804 - val_loss: 0.6164\n",
            "Epoch 107/500\n",
            "21/21 [==============================] - 0s 3ms/step - loss: 0.0763 - val_loss: 0.6015\n",
            "Epoch 108/500\n",
            "21/21 [==============================] - 0s 3ms/step - loss: 0.0708 - val_loss: 0.6127\n",
            "Epoch 109/500\n",
            "21/21 [==============================] - 0s 3ms/step - loss: 0.0724 - val_loss: 0.6316\n",
            "Epoch 110/500\n",
            "21/21 [==============================] - 0s 3ms/step - loss: 0.0700 - val_loss: 0.6243\n",
            "Epoch 111/500\n",
            "21/21 [==============================] - 0s 3ms/step - loss: 0.0678 - val_loss: 0.6260\n",
            "Epoch 112/500\n",
            "21/21 [==============================] - 0s 4ms/step - loss: 0.0682 - val_loss: 0.6294\n",
            "Epoch 113/500\n",
            "21/21 [==============================] - 0s 3ms/step - loss: 0.0657 - val_loss: 0.6432\n",
            "Epoch 114/500\n",
            "21/21 [==============================] - 0s 3ms/step - loss: 0.0642 - val_loss: 0.6427\n",
            "Epoch 115/500\n",
            "21/21 [==============================] - 0s 4ms/step - loss: 0.0705 - val_loss: 0.6580\n",
            "Epoch 116/500\n",
            "21/21 [==============================] - 0s 4ms/step - loss: 0.0655 - val_loss: 0.6653\n",
            "Epoch 117/500\n",
            "21/21 [==============================] - 0s 4ms/step - loss: 0.0617 - val_loss: 0.6656\n",
            "Epoch 118/500\n",
            "21/21 [==============================] - 0s 4ms/step - loss: 0.0588 - val_loss: 0.6702\n",
            "Epoch 119/500\n",
            "21/21 [==============================] - 0s 4ms/step - loss: 0.0577 - val_loss: 0.6769\n",
            "Epoch 120/500\n",
            "21/21 [==============================] - 0s 3ms/step - loss: 0.0564 - val_loss: 0.6787\n",
            "Epoch 121/500\n",
            "21/21 [==============================] - 0s 3ms/step - loss: 0.0802 - val_loss: 0.6976\n",
            "Epoch 122/500\n",
            "21/21 [==============================] - 0s 4ms/step - loss: 0.0729 - val_loss: 0.7120\n",
            "Epoch 123/500\n",
            "21/21 [==============================] - 0s 4ms/step - loss: 0.0627 - val_loss: 0.6983\n",
            "Epoch 124/500\n",
            "21/21 [==============================] - 0s 4ms/step - loss: 0.0574 - val_loss: 0.7063\n",
            "Epoch 125/500\n",
            "21/21 [==============================] - 0s 3ms/step - loss: 0.0540 - val_loss: 0.7011\n",
            "Epoch 126/500\n",
            "21/21 [==============================] - 0s 3ms/step - loss: 0.0530 - val_loss: 0.7144\n",
            "Epoch 127/500\n",
            "21/21 [==============================] - 0s 3ms/step - loss: 0.0537 - val_loss: 0.7021\n",
            "Epoch 128/500\n",
            "21/21 [==============================] - 0s 4ms/step - loss: 0.0534 - val_loss: 0.7227\n",
            "Epoch 129/500\n",
            "21/21 [==============================] - 0s 3ms/step - loss: 0.0513 - val_loss: 0.7264\n",
            "Epoch 130/500\n",
            "21/21 [==============================] - 0s 3ms/step - loss: 0.0491 - val_loss: 0.7296\n",
            "Epoch 131/500\n",
            "21/21 [==============================] - 0s 3ms/step - loss: 0.0482 - val_loss: 0.7410\n",
            "Epoch 132/500\n",
            "21/21 [==============================] - 0s 3ms/step - loss: 0.0472 - val_loss: 0.7429\n",
            "Epoch 133/500\n",
            "21/21 [==============================] - 0s 3ms/step - loss: 0.0464 - val_loss: 0.7501\n",
            "Epoch 134/500\n",
            "21/21 [==============================] - 0s 3ms/step - loss: 0.0449 - val_loss: 0.7583\n",
            "Epoch 135/500\n",
            "21/21 [==============================] - 0s 4ms/step - loss: 0.0436 - val_loss: 0.7665\n",
            "Epoch 136/500\n",
            "21/21 [==============================] - 0s 4ms/step - loss: 0.0463 - val_loss: 0.7805\n",
            "Epoch 137/500\n",
            "21/21 [==============================] - 0s 4ms/step - loss: 0.0443 - val_loss: 0.7854\n",
            "Epoch 138/500\n",
            "21/21 [==============================] - 0s 4ms/step - loss: 0.0420 - val_loss: 0.7809\n",
            "Epoch 139/500\n",
            "21/21 [==============================] - 0s 3ms/step - loss: 0.0409 - val_loss: 0.7923\n",
            "Epoch 140/500\n",
            "21/21 [==============================] - 0s 3ms/step - loss: 0.0395 - val_loss: 0.7949\n",
            "Epoch 141/500\n",
            "21/21 [==============================] - 0s 3ms/step - loss: 0.0391 - val_loss: 0.8024\n",
            "Epoch 142/500\n",
            "21/21 [==============================] - 0s 4ms/step - loss: 0.0394 - val_loss: 0.8074\n",
            "Epoch 143/500\n",
            "21/21 [==============================] - 0s 3ms/step - loss: 0.0403 - val_loss: 0.8200\n",
            "Epoch 144/500\n",
            "21/21 [==============================] - 0s 3ms/step - loss: 0.0393 - val_loss: 0.8312\n",
            "Epoch 145/500\n",
            "21/21 [==============================] - 0s 3ms/step - loss: 0.0485 - val_loss: 0.8265\n",
            "Epoch 146/500\n",
            "21/21 [==============================] - 0s 4ms/step - loss: 0.0397 - val_loss: 0.8458\n",
            "Epoch 147/500\n",
            "21/21 [==============================] - 0s 4ms/step - loss: 0.0353 - val_loss: 0.8359\n",
            "Epoch 148/500\n",
            "21/21 [==============================] - 0s 4ms/step - loss: 0.0345 - val_loss: 0.8505\n",
            "Epoch 149/500\n",
            "21/21 [==============================] - 0s 3ms/step - loss: 0.0336 - val_loss: 0.8605\n",
            "Epoch 150/500\n",
            "21/21 [==============================] - 0s 3ms/step - loss: 0.0325 - val_loss: 0.8700\n",
            "Epoch 151/500\n",
            "21/21 [==============================] - 0s 4ms/step - loss: 0.0346 - val_loss: 0.8858\n",
            "Epoch 152/500\n",
            "21/21 [==============================] - 0s 4ms/step - loss: 0.0346 - val_loss: 0.8724\n",
            "Epoch 153/500\n",
            "21/21 [==============================] - 0s 3ms/step - loss: 0.0326 - val_loss: 0.8833\n",
            "Epoch 154/500\n",
            "21/21 [==============================] - 0s 4ms/step - loss: 0.0313 - val_loss: 0.8909\n",
            "Epoch 155/500\n",
            "21/21 [==============================] - 0s 4ms/step - loss: 0.0310 - val_loss: 0.8980\n",
            "Epoch 156/500\n",
            "21/21 [==============================] - 0s 4ms/step - loss: 0.0299 - val_loss: 0.9030\n",
            "Epoch 157/500\n",
            "21/21 [==============================] - 0s 4ms/step - loss: 0.0290 - val_loss: 0.9078\n",
            "Epoch 158/500\n",
            "21/21 [==============================] - 0s 4ms/step - loss: 0.0285 - val_loss: 0.9120\n",
            "Epoch 159/500\n",
            "21/21 [==============================] - 0s 3ms/step - loss: 0.0278 - val_loss: 0.9195\n",
            "Epoch 160/500\n",
            "21/21 [==============================] - 0s 4ms/step - loss: 0.0277 - val_loss: 0.9293\n",
            "Epoch 161/500\n",
            "21/21 [==============================] - 0s 3ms/step - loss: 0.0269 - val_loss: 0.9312\n",
            "Epoch 162/500\n",
            "21/21 [==============================] - 0s 3ms/step - loss: 0.0273 - val_loss: 0.9324\n",
            "Epoch 163/500\n",
            "21/21 [==============================] - 0s 4ms/step - loss: 0.0262 - val_loss: 0.9425\n",
            "Epoch 164/500\n",
            "21/21 [==============================] - 0s 3ms/step - loss: 0.0252 - val_loss: 0.9513\n",
            "Epoch 165/500\n",
            "21/21 [==============================] - 0s 4ms/step - loss: 0.0247 - val_loss: 0.9560\n",
            "Epoch 166/500\n",
            "21/21 [==============================] - 0s 3ms/step - loss: 0.0242 - val_loss: 0.9680\n",
            "Epoch 167/500\n",
            "21/21 [==============================] - 0s 4ms/step - loss: 0.0237 - val_loss: 0.9698\n",
            "Epoch 168/500\n",
            "21/21 [==============================] - 0s 3ms/step - loss: 0.0234 - val_loss: 0.9815\n",
            "Epoch 169/500\n",
            "21/21 [==============================] - 0s 4ms/step - loss: 0.0231 - val_loss: 0.9859\n",
            "Epoch 170/500\n",
            "21/21 [==============================] - 0s 4ms/step - loss: 0.0223 - val_loss: 0.9918\n",
            "Epoch 171/500\n",
            "21/21 [==============================] - 0s 4ms/step - loss: 0.0223 - val_loss: 1.0086\n",
            "Epoch 172/500\n",
            "21/21 [==============================] - 0s 4ms/step - loss: 0.0219 - val_loss: 1.0174\n",
            "Epoch 173/500\n",
            "21/21 [==============================] - 0s 4ms/step - loss: 0.0264 - val_loss: 1.0056\n",
            "Epoch 174/500\n",
            "21/21 [==============================] - 0s 4ms/step - loss: 0.0264 - val_loss: 1.0148\n",
            "Epoch 175/500\n",
            "21/21 [==============================] - 0s 3ms/step - loss: 0.0267 - val_loss: 1.0292\n",
            "Epoch 176/500\n",
            "21/21 [==============================] - 0s 4ms/step - loss: 0.0253 - val_loss: 1.0306\n",
            "Epoch 177/500\n",
            "21/21 [==============================] - 0s 4ms/step - loss: 0.0228 - val_loss: 1.0254\n",
            "Epoch 178/500\n",
            "21/21 [==============================] - 0s 4ms/step - loss: 0.0224 - val_loss: 1.0420\n",
            "Epoch 179/500\n",
            "21/21 [==============================] - 0s 3ms/step - loss: 0.0218 - val_loss: 1.0587\n",
            "Epoch 180/500\n",
            "21/21 [==============================] - 0s 3ms/step - loss: 0.0216 - val_loss: 1.0803\n",
            "Epoch 181/500\n",
            "21/21 [==============================] - 0s 3ms/step - loss: 0.0197 - val_loss: 1.0759\n",
            "Epoch 182/500\n",
            "21/21 [==============================] - 0s 3ms/step - loss: 0.0191 - val_loss: 1.0906\n",
            "Epoch 183/500\n",
            "21/21 [==============================] - 0s 3ms/step - loss: 0.0190 - val_loss: 1.0962\n",
            "Epoch 184/500\n",
            "21/21 [==============================] - 0s 4ms/step - loss: 0.0188 - val_loss: 1.0949\n",
            "Epoch 185/500\n",
            "21/21 [==============================] - 0s 3ms/step - loss: 0.0183 - val_loss: 1.1081\n",
            "Epoch 186/500\n",
            "21/21 [==============================] - 0s 4ms/step - loss: 0.0172 - val_loss: 1.1079\n",
            "Epoch 187/500\n",
            "21/21 [==============================] - 0s 3ms/step - loss: 0.0170 - val_loss: 1.1160\n",
            "Epoch 188/500\n",
            "21/21 [==============================] - 0s 4ms/step - loss: 0.0168 - val_loss: 1.1243\n",
            "Epoch 189/500\n",
            "21/21 [==============================] - 0s 4ms/step - loss: 0.0165 - val_loss: 1.1267\n",
            "Epoch 190/500\n",
            "21/21 [==============================] - 0s 4ms/step - loss: 0.0162 - val_loss: 1.1394\n",
            "Epoch 191/500\n",
            "21/21 [==============================] - 0s 5ms/step - loss: 0.0156 - val_loss: 1.1420\n",
            "Epoch 192/500\n",
            "21/21 [==============================] - 0s 3ms/step - loss: 0.0157 - val_loss: 1.1484\n",
            "Epoch 193/500\n",
            "21/21 [==============================] - 0s 3ms/step - loss: 0.0157 - val_loss: 1.1553\n",
            "Epoch 194/500\n",
            "21/21 [==============================] - 0s 3ms/step - loss: 0.0172 - val_loss: 1.1522\n",
            "Epoch 195/500\n",
            "21/21 [==============================] - 0s 3ms/step - loss: 0.0162 - val_loss: 1.1656\n",
            "Epoch 196/500\n",
            "21/21 [==============================] - 0s 3ms/step - loss: 0.0177 - val_loss: 1.1952\n",
            "Epoch 197/500\n",
            "21/21 [==============================] - 0s 3ms/step - loss: 0.0162 - val_loss: 1.1738\n",
            "Epoch 198/500\n",
            "21/21 [==============================] - 0s 3ms/step - loss: 0.0163 - val_loss: 1.1924\n",
            "Epoch 199/500\n",
            "21/21 [==============================] - 0s 3ms/step - loss: 0.0152 - val_loss: 1.1721\n",
            "Epoch 200/500\n",
            "21/21 [==============================] - 0s 4ms/step - loss: 0.0143 - val_loss: 1.1913\n",
            "Epoch 201/500\n",
            "21/21 [==============================] - 0s 3ms/step - loss: 0.0132 - val_loss: 1.1991\n",
            "Epoch 202/500\n",
            "21/21 [==============================] - 0s 4ms/step - loss: 0.0130 - val_loss: 1.2097\n",
            "Epoch 203/500\n",
            "21/21 [==============================] - 0s 3ms/step - loss: 0.0125 - val_loss: 1.2186\n",
            "Epoch 204/500\n",
            "21/21 [==============================] - 0s 4ms/step - loss: 0.0126 - val_loss: 1.2289\n",
            "Epoch 205/500\n",
            "21/21 [==============================] - 0s 3ms/step - loss: 0.0123 - val_loss: 1.2294\n",
            "Epoch 206/500\n",
            "21/21 [==============================] - 0s 4ms/step - loss: 0.0120 - val_loss: 1.2357\n",
            "Epoch 207/500\n",
            "21/21 [==============================] - 0s 3ms/step - loss: 0.0117 - val_loss: 1.2442\n",
            "Epoch 208/500\n",
            "21/21 [==============================] - 0s 3ms/step - loss: 0.0115 - val_loss: 1.2544\n",
            "Epoch 209/500\n",
            "21/21 [==============================] - 0s 4ms/step - loss: 0.0115 - val_loss: 1.2614\n",
            "Epoch 210/500\n",
            "21/21 [==============================] - 0s 3ms/step - loss: 0.0114 - val_loss: 1.2559\n",
            "Epoch 211/500\n",
            "21/21 [==============================] - 0s 4ms/step - loss: 0.0115 - val_loss: 1.2715\n",
            "Epoch 212/500\n",
            "21/21 [==============================] - 0s 3ms/step - loss: 0.0116 - val_loss: 1.2719\n",
            "Epoch 213/500\n",
            "21/21 [==============================] - 0s 4ms/step - loss: 0.0105 - val_loss: 1.2851\n",
            "Epoch 214/500\n",
            "21/21 [==============================] - 0s 4ms/step - loss: 0.0105 - val_loss: 1.2783\n",
            "Epoch 215/500\n",
            "21/21 [==============================] - 0s 3ms/step - loss: 0.0105 - val_loss: 1.2934\n",
            "Epoch 216/500\n",
            "21/21 [==============================] - 0s 4ms/step - loss: 0.0102 - val_loss: 1.2991\n",
            "Epoch 217/500\n",
            "21/21 [==============================] - 0s 4ms/step - loss: 0.0102 - val_loss: 1.3184\n",
            "Epoch 218/500\n",
            "21/21 [==============================] - 0s 3ms/step - loss: 0.0104 - val_loss: 1.3163\n",
            "Epoch 219/500\n",
            "21/21 [==============================] - 0s 3ms/step - loss: 0.0095 - val_loss: 1.3300\n",
            "Epoch 220/500\n",
            "21/21 [==============================] - 0s 3ms/step - loss: 0.0094 - val_loss: 1.3237\n",
            "Epoch 221/500\n",
            "21/21 [==============================] - 0s 4ms/step - loss: 0.0093 - val_loss: 1.3379\n",
            "Epoch 222/500\n",
            "21/21 [==============================] - 0s 3ms/step - loss: 0.0091 - val_loss: 1.3393\n",
            "Epoch 223/500\n",
            "21/21 [==============================] - 0s 3ms/step - loss: 0.0091 - val_loss: 1.3523\n",
            "Epoch 224/500\n",
            "21/21 [==============================] - 0s 3ms/step - loss: 0.0089 - val_loss: 1.3476\n",
            "Epoch 225/500\n",
            "21/21 [==============================] - 0s 3ms/step - loss: 0.0091 - val_loss: 1.3658\n",
            "Epoch 226/500\n",
            "21/21 [==============================] - 0s 4ms/step - loss: 0.0091 - val_loss: 1.3646\n",
            "Epoch 227/500\n",
            "21/21 [==============================] - 0s 3ms/step - loss: 0.0093 - val_loss: 1.3703\n",
            "Epoch 228/500\n",
            "21/21 [==============================] - 0s 4ms/step - loss: 0.0089 - val_loss: 1.3879\n",
            "Epoch 229/500\n",
            "21/21 [==============================] - 0s 4ms/step - loss: 0.0084 - val_loss: 1.3990\n",
            "Epoch 230/500\n",
            "21/21 [==============================] - 0s 4ms/step - loss: 0.0086 - val_loss: 1.3991\n",
            "Epoch 231/500\n",
            "21/21 [==============================] - 0s 3ms/step - loss: 0.0079 - val_loss: 1.3964\n",
            "Epoch 232/500\n",
            "21/21 [==============================] - 0s 3ms/step - loss: 0.0075 - val_loss: 1.4135\n",
            "Epoch 233/500\n",
            "21/21 [==============================] - 0s 3ms/step - loss: 0.0075 - val_loss: 1.4106\n",
            "Epoch 234/500\n",
            "21/21 [==============================] - 0s 3ms/step - loss: 0.0074 - val_loss: 1.4208\n",
            "Epoch 235/500\n",
            "21/21 [==============================] - 0s 3ms/step - loss: 0.0070 - val_loss: 1.4231\n",
            "Epoch 236/500\n",
            "21/21 [==============================] - 0s 3ms/step - loss: 0.0078 - val_loss: 1.4442\n",
            "Epoch 237/500\n",
            "21/21 [==============================] - 0s 3ms/step - loss: 0.0070 - val_loss: 1.4427\n",
            "Epoch 238/500\n",
            "21/21 [==============================] - 0s 3ms/step - loss: 0.0073 - val_loss: 1.4571\n",
            "Epoch 239/500\n",
            "21/21 [==============================] - 0s 3ms/step - loss: 0.0075 - val_loss: 1.4348\n",
            "Epoch 240/500\n",
            "21/21 [==============================] - 0s 3ms/step - loss: 0.0075 - val_loss: 1.4762\n",
            "Epoch 241/500\n",
            "21/21 [==============================] - 0s 3ms/step - loss: 0.0073 - val_loss: 1.4697\n",
            "Epoch 242/500\n",
            "21/21 [==============================] - 0s 3ms/step - loss: 0.0072 - val_loss: 1.4680\n",
            "Epoch 243/500\n",
            "21/21 [==============================] - 0s 4ms/step - loss: 0.0069 - val_loss: 1.4806\n",
            "Epoch 244/500\n",
            "21/21 [==============================] - 0s 3ms/step - loss: 0.0063 - val_loss: 1.4829\n",
            "Epoch 245/500\n",
            "21/21 [==============================] - 0s 3ms/step - loss: 0.0064 - val_loss: 1.4863\n",
            "Epoch 246/500\n",
            "21/21 [==============================] - 0s 3ms/step - loss: 0.0065 - val_loss: 1.4978\n",
            "Epoch 247/500\n",
            "21/21 [==============================] - 0s 4ms/step - loss: 0.0066 - val_loss: 1.4961\n",
            "Epoch 248/500\n",
            "21/21 [==============================] - 0s 3ms/step - loss: 0.0077 - val_loss: 1.5009\n",
            "Epoch 249/500\n",
            "21/21 [==============================] - 0s 4ms/step - loss: 0.0060 - val_loss: 1.5182\n",
            "Epoch 250/500\n",
            "21/21 [==============================] - 0s 4ms/step - loss: 0.0062 - val_loss: 1.5119\n",
            "Epoch 251/500\n",
            "21/21 [==============================] - 0s 3ms/step - loss: 0.0054 - val_loss: 1.5323\n",
            "Epoch 252/500\n",
            "21/21 [==============================] - 0s 4ms/step - loss: 0.0066 - val_loss: 1.5138\n",
            "Epoch 253/500\n",
            "21/21 [==============================] - 0s 4ms/step - loss: 0.0062 - val_loss: 1.5417\n",
            "Epoch 254/500\n",
            "21/21 [==============================] - 0s 4ms/step - loss: 0.0053 - val_loss: 1.5378\n",
            "Epoch 255/500\n",
            "21/21 [==============================] - 0s 3ms/step - loss: 0.0053 - val_loss: 1.5400\n",
            "Epoch 256/500\n",
            "21/21 [==============================] - 0s 3ms/step - loss: 0.0053 - val_loss: 1.5394\n",
            "Epoch 257/500\n",
            "21/21 [==============================] - 0s 3ms/step - loss: 0.0050 - val_loss: 1.5570\n",
            "Epoch 258/500\n",
            "21/21 [==============================] - 0s 4ms/step - loss: 0.0048 - val_loss: 1.5599\n",
            "Epoch 259/500\n",
            "21/21 [==============================] - 0s 4ms/step - loss: 0.0049 - val_loss: 1.5673\n",
            "Epoch 260/500\n",
            "21/21 [==============================] - 0s 4ms/step - loss: 0.0047 - val_loss: 1.5703\n",
            "Epoch 261/500\n",
            "21/21 [==============================] - 0s 3ms/step - loss: 0.0045 - val_loss: 1.5825\n",
            "Epoch 262/500\n",
            "21/21 [==============================] - 0s 3ms/step - loss: 0.0046 - val_loss: 1.5925\n",
            "Epoch 263/500\n",
            "21/21 [==============================] - 0s 4ms/step - loss: 0.0046 - val_loss: 1.5909\n",
            "Epoch 264/500\n",
            "21/21 [==============================] - 0s 3ms/step - loss: 0.0042 - val_loss: 1.5990\n",
            "Epoch 265/500\n",
            "21/21 [==============================] - 0s 4ms/step - loss: 0.0041 - val_loss: 1.6050\n",
            "Epoch 266/500\n",
            "21/21 [==============================] - 0s 3ms/step - loss: 0.0043 - val_loss: 1.6075\n",
            "Epoch 267/500\n",
            "21/21 [==============================] - 0s 4ms/step - loss: 0.0042 - val_loss: 1.6142\n",
            "Epoch 268/500\n",
            "21/21 [==============================] - 0s 4ms/step - loss: 0.0039 - val_loss: 1.6115\n",
            "Epoch 269/500\n",
            "21/21 [==============================] - 0s 4ms/step - loss: 0.0040 - val_loss: 1.6282\n",
            "Epoch 270/500\n",
            "21/21 [==============================] - 0s 3ms/step - loss: 0.0040 - val_loss: 1.6309\n",
            "Epoch 271/500\n",
            "21/21 [==============================] - 0s 4ms/step - loss: 0.0037 - val_loss: 1.6346\n",
            "Epoch 272/500\n",
            "21/21 [==============================] - 0s 4ms/step - loss: 0.0037 - val_loss: 1.6429\n",
            "Epoch 273/500\n",
            "21/21 [==============================] - 0s 4ms/step - loss: 0.0038 - val_loss: 1.6386\n",
            "Epoch 274/500\n",
            "21/21 [==============================] - 0s 3ms/step - loss: 0.0038 - val_loss: 1.6431\n",
            "Epoch 275/500\n",
            "21/21 [==============================] - 0s 3ms/step - loss: 0.0045 - val_loss: 1.6556\n",
            "Epoch 276/500\n",
            "21/21 [==============================] - 0s 3ms/step - loss: 0.0053 - val_loss: 1.6510\n",
            "Epoch 277/500\n",
            "21/21 [==============================] - 0s 3ms/step - loss: 0.0104 - val_loss: 1.6725\n",
            "Epoch 278/500\n",
            "21/21 [==============================] - 0s 3ms/step - loss: 0.0060 - val_loss: 1.6918\n",
            "Epoch 279/500\n",
            "21/21 [==============================] - 0s 4ms/step - loss: 0.0043 - val_loss: 1.6830\n",
            "Epoch 280/500\n",
            "21/21 [==============================] - 0s 3ms/step - loss: 0.0032 - val_loss: 1.6963\n",
            "Epoch 281/500\n",
            "21/21 [==============================] - 0s 3ms/step - loss: 0.0035 - val_loss: 1.7010\n",
            "Epoch 282/500\n",
            "21/21 [==============================] - 0s 4ms/step - loss: 0.0032 - val_loss: 1.7095\n",
            "Epoch 283/500\n",
            "21/21 [==============================] - 0s 4ms/step - loss: 0.0036 - val_loss: 1.7289\n",
            "Epoch 284/500\n",
            "21/21 [==============================] - 0s 4ms/step - loss: 0.0032 - val_loss: 1.7227\n",
            "Epoch 285/500\n",
            "21/21 [==============================] - 0s 4ms/step - loss: 0.0029 - val_loss: 1.7349\n",
            "Epoch 286/500\n",
            "21/21 [==============================] - 0s 3ms/step - loss: 0.0042 - val_loss: 1.7291\n",
            "Epoch 287/500\n",
            "21/21 [==============================] - 0s 4ms/step - loss: 0.0030 - val_loss: 1.7222\n",
            "Epoch 288/500\n",
            "21/21 [==============================] - 0s 4ms/step - loss: 0.0032 - val_loss: 1.7469\n",
            "Epoch 289/500\n",
            "21/21 [==============================] - 0s 3ms/step - loss: 0.0028 - val_loss: 1.7593\n",
            "Epoch 290/500\n",
            "21/21 [==============================] - 0s 4ms/step - loss: 0.0026 - val_loss: 1.7628\n",
            "Epoch 291/500\n",
            "21/21 [==============================] - 0s 4ms/step - loss: 0.0027 - val_loss: 1.7599\n",
            "Epoch 292/500\n",
            "21/21 [==============================] - 0s 3ms/step - loss: 0.0025 - val_loss: 1.7675\n",
            "Epoch 293/500\n",
            "21/21 [==============================] - 0s 3ms/step - loss: 0.0025 - val_loss: 1.7742\n",
            "Epoch 294/500\n",
            "21/21 [==============================] - 0s 3ms/step - loss: 0.0025 - val_loss: 1.7761\n",
            "Epoch 295/500\n",
            "21/21 [==============================] - 0s 3ms/step - loss: 0.0024 - val_loss: 1.7820\n",
            "Epoch 296/500\n",
            "21/21 [==============================] - 0s 4ms/step - loss: 0.0025 - val_loss: 1.7937\n",
            "Epoch 297/500\n",
            "21/21 [==============================] - 0s 3ms/step - loss: 0.0145 - val_loss: 1.8006\n",
            "Epoch 298/500\n",
            "21/21 [==============================] - 0s 4ms/step - loss: 0.0043 - val_loss: 1.8054\n",
            "Epoch 299/500\n",
            "21/21 [==============================] - 0s 4ms/step - loss: 0.0028 - val_loss: 1.7968\n",
            "Epoch 300/500\n",
            "21/21 [==============================] - 0s 3ms/step - loss: 0.0025 - val_loss: 1.8011\n",
            "Epoch 301/500\n",
            "21/21 [==============================] - 0s 4ms/step - loss: 0.0023 - val_loss: 1.7990\n",
            "Epoch 302/500\n",
            "21/21 [==============================] - 0s 3ms/step - loss: 0.0024 - val_loss: 1.8054\n",
            "Epoch 303/500\n",
            "21/21 [==============================] - 0s 4ms/step - loss: 0.0024 - val_loss: 1.8236\n",
            "Epoch 304/500\n",
            "21/21 [==============================] - 0s 3ms/step - loss: 0.0022 - val_loss: 1.8317\n",
            "Epoch 305/500\n",
            "21/21 [==============================] - 0s 3ms/step - loss: 0.0020 - val_loss: 1.8339\n",
            "Epoch 306/500\n",
            "21/21 [==============================] - 0s 4ms/step - loss: 0.0021 - val_loss: 1.8405\n",
            "Epoch 307/500\n",
            "21/21 [==============================] - 0s 4ms/step - loss: 0.0020 - val_loss: 1.8477\n",
            "Epoch 308/500\n",
            "21/21 [==============================] - 0s 3ms/step - loss: 0.0019 - val_loss: 1.8538\n",
            "Epoch 309/500\n",
            "21/21 [==============================] - 0s 4ms/step - loss: 0.0018 - val_loss: 1.8559\n",
            "Epoch 310/500\n",
            "21/21 [==============================] - 0s 3ms/step - loss: 0.0018 - val_loss: 1.8670\n",
            "Epoch 311/500\n",
            "21/21 [==============================] - 0s 3ms/step - loss: 0.0019 - val_loss: 1.8685\n",
            "Epoch 312/500\n",
            "21/21 [==============================] - 0s 3ms/step - loss: 0.0018 - val_loss: 1.8741\n",
            "Epoch 313/500\n",
            "21/21 [==============================] - 0s 3ms/step - loss: 0.0017 - val_loss: 1.8877\n",
            "Epoch 314/500\n",
            "21/21 [==============================] - 0s 3ms/step - loss: 0.0017 - val_loss: 1.8835\n",
            "Epoch 315/500\n",
            "21/21 [==============================] - 0s 4ms/step - loss: 0.0019 - val_loss: 1.9052\n",
            "Epoch 316/500\n",
            "21/21 [==============================] - 0s 4ms/step - loss: 0.0021 - val_loss: 1.9063\n",
            "Epoch 317/500\n",
            "21/21 [==============================] - 0s 3ms/step - loss: 0.0017 - val_loss: 1.9060\n",
            "Epoch 318/500\n",
            "21/21 [==============================] - 0s 3ms/step - loss: 0.0015 - val_loss: 1.9078\n",
            "Epoch 319/500\n",
            "21/21 [==============================] - 0s 3ms/step - loss: 0.0016 - val_loss: 1.9075\n",
            "Epoch 320/500\n",
            "21/21 [==============================] - 0s 4ms/step - loss: 0.0015 - val_loss: 1.9167\n",
            "Epoch 321/500\n",
            "21/21 [==============================] - 0s 4ms/step - loss: 0.0015 - val_loss: 1.9170\n",
            "Epoch 322/500\n",
            "21/21 [==============================] - 0s 4ms/step - loss: 0.0014 - val_loss: 1.9209\n",
            "Epoch 323/500\n",
            "21/21 [==============================] - 0s 4ms/step - loss: 0.0015 - val_loss: 1.9275\n",
            "Epoch 324/500\n",
            "21/21 [==============================] - 0s 3ms/step - loss: 0.0015 - val_loss: 1.9384\n",
            "Epoch 325/500\n",
            "21/21 [==============================] - 0s 3ms/step - loss: 0.0014 - val_loss: 1.9376\n",
            "Epoch 326/500\n",
            "21/21 [==============================] - 0s 3ms/step - loss: 0.0013 - val_loss: 1.9441\n",
            "Epoch 327/500\n",
            "21/21 [==============================] - 0s 3ms/step - loss: 0.0014 - val_loss: 1.9529\n",
            "Epoch 328/500\n",
            "21/21 [==============================] - 0s 4ms/step - loss: 0.0013 - val_loss: 1.9550\n",
            "Epoch 329/500\n",
            "21/21 [==============================] - 0s 3ms/step - loss: 0.0013 - val_loss: 1.9550\n",
            "Epoch 330/500\n",
            "21/21 [==============================] - 0s 3ms/step - loss: 0.0014 - val_loss: 1.9578\n",
            "Epoch 331/500\n",
            "21/21 [==============================] - 0s 3ms/step - loss: 0.0013 - val_loss: 1.9656\n",
            "Epoch 332/500\n",
            "21/21 [==============================] - 0s 3ms/step - loss: 0.0013 - val_loss: 1.9666\n",
            "Epoch 333/500\n",
            "21/21 [==============================] - 0s 3ms/step - loss: 0.0013 - val_loss: 1.9832\n",
            "Epoch 334/500\n",
            "21/21 [==============================] - 0s 3ms/step - loss: 0.0012 - val_loss: 1.9826\n",
            "Epoch 335/500\n",
            "21/21 [==============================] - 0s 3ms/step - loss: 0.0012 - val_loss: 1.9822\n",
            "Epoch 336/500\n",
            "21/21 [==============================] - 0s 3ms/step - loss: 0.0012 - val_loss: 1.9920\n",
            "Epoch 337/500\n",
            "21/21 [==============================] - 0s 3ms/step - loss: 0.0011 - val_loss: 1.9993\n",
            "Epoch 338/500\n",
            "21/21 [==============================] - 0s 4ms/step - loss: 0.0011 - val_loss: 1.9986\n",
            "Epoch 339/500\n",
            "21/21 [==============================] - 0s 3ms/step - loss: 0.0011 - val_loss: 2.0056\n",
            "Epoch 340/500\n",
            "21/21 [==============================] - 0s 3ms/step - loss: 0.0010 - val_loss: 2.0090\n",
            "Epoch 341/500\n",
            "21/21 [==============================] - 0s 4ms/step - loss: 0.0015 - val_loss: 2.0152\n",
            "Epoch 342/500\n",
            "21/21 [==============================] - 0s 3ms/step - loss: 0.0011 - val_loss: 2.0227\n",
            "Epoch 343/500\n",
            "21/21 [==============================] - 0s 3ms/step - loss: 0.0011 - val_loss: 2.0302\n",
            "Epoch 344/500\n",
            "21/21 [==============================] - 0s 4ms/step - loss: 0.0011 - val_loss: 2.0374\n",
            "Epoch 345/500\n",
            "21/21 [==============================] - 0s 3ms/step - loss: 0.0011 - val_loss: 2.0374\n",
            "Epoch 346/500\n",
            "21/21 [==============================] - 0s 3ms/step - loss: 0.0013 - val_loss: 2.0630\n",
            "Epoch 347/500\n",
            "21/21 [==============================] - 0s 4ms/step - loss: 0.0012 - val_loss: 2.0539\n",
            "Epoch 348/500\n",
            "21/21 [==============================] - 0s 3ms/step - loss: 9.5901e-04 - val_loss: 2.0587\n",
            "Epoch 349/500\n",
            "21/21 [==============================] - 0s 3ms/step - loss: 8.9844e-04 - val_loss: 2.0611\n",
            "Epoch 350/500\n",
            "21/21 [==============================] - 0s 5ms/step - loss: 9.0346e-04 - val_loss: 2.0643\n",
            "Epoch 351/500\n",
            "21/21 [==============================] - 0s 3ms/step - loss: 0.0011 - val_loss: 2.0823\n",
            "Epoch 352/500\n",
            "21/21 [==============================] - 0s 4ms/step - loss: 9.5065e-04 - val_loss: 2.0770\n",
            "Epoch 353/500\n",
            "21/21 [==============================] - 0s 3ms/step - loss: 8.4605e-04 - val_loss: 2.0843\n",
            "Epoch 354/500\n",
            "21/21 [==============================] - 0s 3ms/step - loss: 0.0012 - val_loss: 2.0908\n",
            "Epoch 355/500\n",
            "21/21 [==============================] - 0s 3ms/step - loss: 0.0010 - val_loss: 2.0809\n",
            "Epoch 356/500\n",
            "21/21 [==============================] - 0s 3ms/step - loss: 8.3407e-04 - val_loss: 2.0884\n",
            "Epoch 357/500\n",
            "21/21 [==============================] - 0s 3ms/step - loss: 7.7023e-04 - val_loss: 2.0939\n",
            "Epoch 358/500\n",
            "21/21 [==============================] - 0s 3ms/step - loss: 7.8477e-04 - val_loss: 2.1025\n",
            "Epoch 359/500\n",
            "21/21 [==============================] - 0s 4ms/step - loss: 7.5459e-04 - val_loss: 2.0963\n",
            "Epoch 360/500\n",
            "21/21 [==============================] - 0s 4ms/step - loss: 7.8729e-04 - val_loss: 2.1065\n",
            "Epoch 361/500\n",
            "21/21 [==============================] - 0s 3ms/step - loss: 8.8669e-04 - val_loss: 2.1260\n",
            "Epoch 362/500\n",
            "21/21 [==============================] - 0s 3ms/step - loss: 0.0012 - val_loss: 2.1464\n",
            "Epoch 363/500\n",
            "21/21 [==============================] - 0s 4ms/step - loss: 0.0055 - val_loss: 2.0816\n",
            "Epoch 364/500\n",
            "21/21 [==============================] - 0s 4ms/step - loss: 0.0173 - val_loss: 2.1312\n",
            "Epoch 365/500\n",
            "21/21 [==============================] - 0s 4ms/step - loss: 0.0097 - val_loss: 2.1911\n",
            "Epoch 366/500\n",
            "21/21 [==============================] - 0s 3ms/step - loss: 0.0330 - val_loss: 2.1804\n",
            "Epoch 367/500\n",
            "21/21 [==============================] - 0s 3ms/step - loss: 0.0095 - val_loss: 2.1335\n",
            "Epoch 368/500\n",
            "21/21 [==============================] - 0s 3ms/step - loss: 0.0034 - val_loss: 2.0828\n",
            "Epoch 369/500\n",
            "21/21 [==============================] - 0s 3ms/step - loss: 0.0420 - val_loss: 2.1521\n",
            "Epoch 370/500\n",
            "21/21 [==============================] - 0s 4ms/step - loss: 0.0238 - val_loss: 2.0572\n",
            "Epoch 371/500\n",
            "21/21 [==============================] - 0s 3ms/step - loss: 0.0027 - val_loss: 2.0695\n",
            "Epoch 372/500\n",
            "21/21 [==============================] - 0s 4ms/step - loss: 0.0018 - val_loss: 2.0901\n",
            "Epoch 373/500\n",
            "21/21 [==============================] - 0s 3ms/step - loss: 0.0014 - val_loss: 2.0944\n",
            "Epoch 374/500\n",
            "21/21 [==============================] - 0s 4ms/step - loss: 0.0013 - val_loss: 2.1039\n",
            "Epoch 375/500\n",
            "21/21 [==============================] - 0s 3ms/step - loss: 0.0012 - val_loss: 2.1067\n",
            "Epoch 376/500\n",
            "21/21 [==============================] - 0s 3ms/step - loss: 0.0011 - val_loss: 2.1104\n",
            "Epoch 377/500\n",
            "21/21 [==============================] - 0s 3ms/step - loss: 0.0010 - val_loss: 2.1144\n",
            "Epoch 378/500\n",
            "21/21 [==============================] - 0s 4ms/step - loss: 0.0010 - val_loss: 2.1213\n",
            "Epoch 379/500\n",
            "21/21 [==============================] - 0s 4ms/step - loss: 9.7504e-04 - val_loss: 2.1215\n",
            "Epoch 380/500\n",
            "21/21 [==============================] - 0s 3ms/step - loss: 9.4208e-04 - val_loss: 2.1229\n",
            "Epoch 381/500\n",
            "21/21 [==============================] - 0s 4ms/step - loss: 9.0206e-04 - val_loss: 2.1270\n",
            "Epoch 382/500\n",
            "21/21 [==============================] - 0s 3ms/step - loss: 8.8463e-04 - val_loss: 2.1394\n",
            "Epoch 383/500\n",
            "21/21 [==============================] - 0s 4ms/step - loss: 8.5370e-04 - val_loss: 2.1403\n",
            "Epoch 384/500\n",
            "21/21 [==============================] - 0s 3ms/step - loss: 8.3061e-04 - val_loss: 2.1406\n",
            "Epoch 385/500\n",
            "21/21 [==============================] - 0s 4ms/step - loss: 8.0780e-04 - val_loss: 2.1418\n",
            "Epoch 386/500\n",
            "21/21 [==============================] - 0s 3ms/step - loss: 7.9484e-04 - val_loss: 2.1438\n",
            "Epoch 387/500\n",
            "21/21 [==============================] - 0s 4ms/step - loss: 7.7612e-04 - val_loss: 2.1482\n",
            "Epoch 388/500\n",
            "21/21 [==============================] - 0s 4ms/step - loss: 7.6840e-04 - val_loss: 2.1479\n",
            "Epoch 389/500\n",
            "21/21 [==============================] - 0s 3ms/step - loss: 0.0020 - val_loss: 2.1516\n",
            "Epoch 390/500\n",
            "21/21 [==============================] - 0s 3ms/step - loss: 8.9768e-04 - val_loss: 2.1636\n",
            "Epoch 391/500\n",
            "21/21 [==============================] - 0s 3ms/step - loss: 7.8310e-04 - val_loss: 2.1645\n",
            "Epoch 392/500\n",
            "21/21 [==============================] - 0s 4ms/step - loss: 7.0421e-04 - val_loss: 2.1635\n",
            "Epoch 393/500\n",
            "21/21 [==============================] - 0s 4ms/step - loss: 6.9310e-04 - val_loss: 2.1629\n",
            "Epoch 394/500\n",
            "21/21 [==============================] - 0s 3ms/step - loss: 6.9666e-04 - val_loss: 2.1535\n",
            "Epoch 395/500\n",
            "21/21 [==============================] - 0s 3ms/step - loss: 6.9305e-04 - val_loss: 2.1585\n",
            "Epoch 396/500\n",
            "21/21 [==============================] - 0s 4ms/step - loss: 6.5692e-04 - val_loss: 2.1659\n",
            "Epoch 397/500\n",
            "21/21 [==============================] - 0s 3ms/step - loss: 6.4945e-04 - val_loss: 2.1693\n",
            "Epoch 398/500\n",
            "21/21 [==============================] - 0s 3ms/step - loss: 6.3324e-04 - val_loss: 2.1711\n",
            "Epoch 399/500\n",
            "21/21 [==============================] - 0s 3ms/step - loss: 6.2630e-04 - val_loss: 2.1747\n",
            "Epoch 400/500\n",
            "21/21 [==============================] - 0s 3ms/step - loss: 6.1207e-04 - val_loss: 2.1764\n",
            "Epoch 401/500\n",
            "21/21 [==============================] - 0s 4ms/step - loss: 5.9612e-04 - val_loss: 2.1792\n",
            "Epoch 402/500\n",
            "21/21 [==============================] - 0s 4ms/step - loss: 5.9055e-04 - val_loss: 2.1815\n",
            "Epoch 403/500\n",
            "21/21 [==============================] - 0s 4ms/step - loss: 5.8612e-04 - val_loss: 2.1854\n",
            "Epoch 404/500\n",
            "21/21 [==============================] - 0s 4ms/step - loss: 5.8408e-04 - val_loss: 2.1863\n",
            "Epoch 405/500\n",
            "21/21 [==============================] - 0s 4ms/step - loss: 5.6955e-04 - val_loss: 2.1902\n",
            "Epoch 406/500\n",
            "21/21 [==============================] - 0s 4ms/step - loss: 5.6560e-04 - val_loss: 2.1904\n",
            "Epoch 407/500\n",
            "21/21 [==============================] - 0s 3ms/step - loss: 5.9977e-04 - val_loss: 2.1899\n",
            "Epoch 408/500\n",
            "21/21 [==============================] - 0s 3ms/step - loss: 5.9736e-04 - val_loss: 2.1950\n",
            "Epoch 409/500\n",
            "21/21 [==============================] - 0s 3ms/step - loss: 5.6897e-04 - val_loss: 2.1985\n",
            "Epoch 410/500\n",
            "21/21 [==============================] - 0s 4ms/step - loss: 5.5941e-04 - val_loss: 2.1909\n",
            "Epoch 411/500\n",
            "21/21 [==============================] - 0s 3ms/step - loss: 5.4710e-04 - val_loss: 2.1947\n",
            "Epoch 412/500\n",
            "21/21 [==============================] - 0s 4ms/step - loss: 5.3899e-04 - val_loss: 2.1983\n",
            "Epoch 413/500\n",
            "21/21 [==============================] - 0s 4ms/step - loss: 5.3155e-04 - val_loss: 2.2014\n",
            "Epoch 414/500\n",
            "21/21 [==============================] - 0s 3ms/step - loss: 5.2024e-04 - val_loss: 2.2036\n",
            "Epoch 415/500\n",
            "21/21 [==============================] - 0s 4ms/step - loss: 5.1391e-04 - val_loss: 2.2072\n",
            "Epoch 416/500\n",
            "21/21 [==============================] - 0s 3ms/step - loss: 5.1014e-04 - val_loss: 2.2103\n",
            "Epoch 417/500\n",
            "21/21 [==============================] - 0s 3ms/step - loss: 5.1294e-04 - val_loss: 2.2064\n",
            "Epoch 418/500\n",
            "21/21 [==============================] - 0s 3ms/step - loss: 4.9962e-04 - val_loss: 2.2100\n",
            "Epoch 419/500\n",
            "21/21 [==============================] - 0s 3ms/step - loss: 4.9380e-04 - val_loss: 2.2148\n",
            "Epoch 420/500\n",
            "21/21 [==============================] - 0s 4ms/step - loss: 4.9234e-04 - val_loss: 2.2193\n",
            "Epoch 421/500\n",
            "21/21 [==============================] - 0s 4ms/step - loss: 4.8451e-04 - val_loss: 2.2229\n",
            "Epoch 422/500\n",
            "21/21 [==============================] - 0s 4ms/step - loss: 4.8107e-04 - val_loss: 2.2240\n",
            "Epoch 423/500\n",
            "21/21 [==============================] - 0s 3ms/step - loss: 4.6307e-04 - val_loss: 2.2276\n",
            "Epoch 424/500\n",
            "21/21 [==============================] - 0s 3ms/step - loss: 4.7374e-04 - val_loss: 2.2328\n",
            "Epoch 425/500\n",
            "21/21 [==============================] - 0s 4ms/step - loss: 4.5809e-04 - val_loss: 2.2342\n",
            "Epoch 426/500\n",
            "21/21 [==============================] - 0s 3ms/step - loss: 4.5995e-04 - val_loss: 2.2359\n",
            "Epoch 427/500\n",
            "21/21 [==============================] - 0s 4ms/step - loss: 4.5110e-04 - val_loss: 2.2383\n",
            "Epoch 428/500\n",
            "21/21 [==============================] - 0s 4ms/step - loss: 4.5053e-04 - val_loss: 2.2418\n",
            "Epoch 429/500\n",
            "21/21 [==============================] - 0s 4ms/step - loss: 4.4343e-04 - val_loss: 2.2433\n",
            "Epoch 430/500\n",
            "21/21 [==============================] - 0s 4ms/step - loss: 4.4452e-04 - val_loss: 2.2469\n",
            "Epoch 431/500\n",
            "21/21 [==============================] - 0s 3ms/step - loss: 4.3592e-04 - val_loss: 2.2505\n",
            "Epoch 432/500\n",
            "21/21 [==============================] - 0s 3ms/step - loss: 4.3421e-04 - val_loss: 2.2524\n",
            "Epoch 433/500\n",
            "21/21 [==============================] - 0s 3ms/step - loss: 4.3026e-04 - val_loss: 2.2548\n",
            "Epoch 434/500\n",
            "21/21 [==============================] - 0s 4ms/step - loss: 4.3452e-04 - val_loss: 2.2577\n",
            "Epoch 435/500\n",
            "21/21 [==============================] - 0s 4ms/step - loss: 4.1691e-04 - val_loss: 2.2603\n",
            "Epoch 436/500\n",
            "21/21 [==============================] - 0s 3ms/step - loss: 4.1763e-04 - val_loss: 2.2611\n",
            "Epoch 437/500\n",
            "21/21 [==============================] - 0s 4ms/step - loss: 4.2554e-04 - val_loss: 2.2568\n",
            "Epoch 438/500\n",
            "21/21 [==============================] - 0s 3ms/step - loss: 4.0728e-04 - val_loss: 2.2635\n",
            "Epoch 439/500\n",
            "21/21 [==============================] - 0s 4ms/step - loss: 4.0227e-04 - val_loss: 2.2680\n",
            "Epoch 440/500\n",
            "21/21 [==============================] - 0s 4ms/step - loss: 3.9595e-04 - val_loss: 2.2693\n",
            "Epoch 441/500\n",
            "21/21 [==============================] - 0s 4ms/step - loss: 3.9287e-04 - val_loss: 2.2729\n",
            "Epoch 442/500\n",
            "21/21 [==============================] - 0s 3ms/step - loss: 3.8481e-04 - val_loss: 2.2706\n",
            "Epoch 443/500\n",
            "21/21 [==============================] - 0s 4ms/step - loss: 4.1383e-04 - val_loss: 2.2759\n",
            "Epoch 444/500\n",
            "21/21 [==============================] - 0s 3ms/step - loss: 4.1177e-04 - val_loss: 2.2839\n",
            "Epoch 445/500\n",
            "21/21 [==============================] - 0s 3ms/step - loss: 3.9340e-04 - val_loss: 2.2876\n",
            "Epoch 446/500\n",
            "21/21 [==============================] - 0s 3ms/step - loss: 3.9810e-04 - val_loss: 2.2903\n",
            "Epoch 447/500\n",
            "21/21 [==============================] - 0s 3ms/step - loss: 3.7387e-04 - val_loss: 2.2924\n",
            "Epoch 448/500\n",
            "21/21 [==============================] - 0s 3ms/step - loss: 3.7078e-04 - val_loss: 2.2964\n",
            "Epoch 449/500\n",
            "21/21 [==============================] - 0s 4ms/step - loss: 3.6968e-04 - val_loss: 2.2986\n",
            "Epoch 450/500\n",
            "21/21 [==============================] - 0s 3ms/step - loss: 3.6880e-04 - val_loss: 2.3015\n",
            "Epoch 451/500\n",
            "21/21 [==============================] - 0s 4ms/step - loss: 3.6564e-04 - val_loss: 2.3025\n",
            "Epoch 452/500\n",
            "21/21 [==============================] - 0s 4ms/step - loss: 3.5526e-04 - val_loss: 2.3013\n",
            "Epoch 453/500\n",
            "21/21 [==============================] - 0s 4ms/step - loss: 3.6658e-04 - val_loss: 2.3057\n",
            "Epoch 454/500\n",
            "21/21 [==============================] - 0s 4ms/step - loss: 3.4617e-04 - val_loss: 2.3108\n",
            "Epoch 455/500\n",
            "21/21 [==============================] - 0s 3ms/step - loss: 3.4341e-04 - val_loss: 2.3100\n",
            "Epoch 456/500\n",
            "21/21 [==============================] - 0s 4ms/step - loss: 3.4187e-04 - val_loss: 2.3122\n",
            "Epoch 457/500\n",
            "21/21 [==============================] - 0s 3ms/step - loss: 3.3960e-04 - val_loss: 2.3159\n",
            "Epoch 458/500\n",
            "21/21 [==============================] - 0s 4ms/step - loss: 3.4699e-04 - val_loss: 2.3176\n",
            "Epoch 459/500\n",
            "21/21 [==============================] - 0s 3ms/step - loss: 3.2585e-04 - val_loss: 2.3208\n",
            "Epoch 460/500\n",
            "21/21 [==============================] - 0s 3ms/step - loss: 3.3351e-04 - val_loss: 2.3254\n",
            "Epoch 461/500\n",
            "21/21 [==============================] - 0s 4ms/step - loss: 3.2254e-04 - val_loss: 2.3272\n",
            "Epoch 462/500\n",
            "21/21 [==============================] - 0s 3ms/step - loss: 3.1828e-04 - val_loss: 2.3294\n",
            "Epoch 463/500\n",
            "21/21 [==============================] - 0s 4ms/step - loss: 3.1355e-04 - val_loss: 2.3308\n",
            "Epoch 464/500\n",
            "21/21 [==============================] - 0s 3ms/step - loss: 3.0993e-04 - val_loss: 2.3349\n",
            "Epoch 465/500\n",
            "21/21 [==============================] - 0s 4ms/step - loss: 3.1296e-04 - val_loss: 2.3356\n",
            "Epoch 466/500\n",
            "21/21 [==============================] - 0s 4ms/step - loss: 3.0609e-04 - val_loss: 2.3371\n",
            "Epoch 467/500\n",
            "21/21 [==============================] - 0s 4ms/step - loss: 3.0505e-04 - val_loss: 2.3406\n",
            "Epoch 468/500\n",
            "21/21 [==============================] - 0s 4ms/step - loss: 2.9551e-04 - val_loss: 2.3430\n",
            "Epoch 469/500\n",
            "21/21 [==============================] - 0s 3ms/step - loss: 2.9474e-04 - val_loss: 2.3458\n",
            "Epoch 470/500\n",
            "21/21 [==============================] - 0s 4ms/step - loss: 2.9384e-04 - val_loss: 2.3496\n",
            "Epoch 471/500\n",
            "21/21 [==============================] - 0s 3ms/step - loss: 2.9218e-04 - val_loss: 2.3519\n",
            "Epoch 472/500\n",
            "21/21 [==============================] - 0s 3ms/step - loss: 2.8532e-04 - val_loss: 2.3527\n",
            "Epoch 473/500\n",
            "21/21 [==============================] - 0s 3ms/step - loss: 2.8752e-04 - val_loss: 2.3528\n",
            "Epoch 474/500\n",
            "21/21 [==============================] - 0s 4ms/step - loss: 2.8845e-04 - val_loss: 2.3554\n",
            "Epoch 475/500\n",
            "21/21 [==============================] - 0s 3ms/step - loss: 2.8647e-04 - val_loss: 2.3580\n",
            "Epoch 476/500\n",
            "21/21 [==============================] - 0s 3ms/step - loss: 2.7863e-04 - val_loss: 2.3600\n",
            "Epoch 477/500\n",
            "21/21 [==============================] - 0s 4ms/step - loss: 2.8021e-04 - val_loss: 2.3612\n",
            "Epoch 478/500\n",
            "21/21 [==============================] - 0s 3ms/step - loss: 2.7845e-04 - val_loss: 2.3639\n",
            "Epoch 479/500\n",
            "21/21 [==============================] - 0s 3ms/step - loss: 2.6757e-04 - val_loss: 2.3683\n",
            "Epoch 480/500\n",
            "21/21 [==============================] - 0s 3ms/step - loss: 2.6905e-04 - val_loss: 2.3703\n",
            "Epoch 481/500\n",
            "21/21 [==============================] - 0s 5ms/step - loss: 2.6319e-04 - val_loss: 2.3705\n",
            "Epoch 482/500\n",
            "21/21 [==============================] - 0s 4ms/step - loss: 2.6170e-04 - val_loss: 2.3686\n",
            "Epoch 483/500\n",
            "21/21 [==============================] - 0s 3ms/step - loss: 2.6185e-04 - val_loss: 2.3740\n",
            "Epoch 484/500\n",
            "21/21 [==============================] - 0s 3ms/step - loss: 2.5272e-04 - val_loss: 2.3760\n",
            "Epoch 485/500\n",
            "21/21 [==============================] - 0s 3ms/step - loss: 2.5248e-04 - val_loss: 2.3797\n",
            "Epoch 486/500\n",
            "21/21 [==============================] - 0s 3ms/step - loss: 2.5311e-04 - val_loss: 2.3832\n",
            "Epoch 487/500\n",
            "21/21 [==============================] - 0s 3ms/step - loss: 2.4939e-04 - val_loss: 2.3845\n",
            "Epoch 488/500\n",
            "21/21 [==============================] - 0s 5ms/step - loss: 2.4496e-04 - val_loss: 2.3895\n",
            "Epoch 489/500\n",
            "21/21 [==============================] - 0s 4ms/step - loss: 2.4356e-04 - val_loss: 2.3914\n",
            "Epoch 490/500\n",
            "21/21 [==============================] - 0s 3ms/step - loss: 2.3724e-04 - val_loss: 2.3930\n",
            "Epoch 491/500\n",
            "21/21 [==============================] - 0s 4ms/step - loss: 2.3897e-04 - val_loss: 2.3977\n",
            "Epoch 492/500\n",
            "21/21 [==============================] - 0s 3ms/step - loss: 2.3859e-04 - val_loss: 2.4031\n",
            "Epoch 493/500\n",
            "21/21 [==============================] - 0s 4ms/step - loss: 2.3527e-04 - val_loss: 2.4035\n",
            "Epoch 494/500\n",
            "21/21 [==============================] - 0s 3ms/step - loss: 2.3023e-04 - val_loss: 2.4033\n",
            "Epoch 495/500\n",
            "21/21 [==============================] - 0s 4ms/step - loss: 2.2833e-04 - val_loss: 2.4073\n",
            "Epoch 496/500\n",
            "21/21 [==============================] - 0s 4ms/step - loss: 2.2537e-04 - val_loss: 2.4097\n",
            "Epoch 497/500\n",
            "21/21 [==============================] - 0s 4ms/step - loss: 2.2675e-04 - val_loss: 2.4131\n",
            "Epoch 498/500\n",
            "21/21 [==============================] - 0s 3ms/step - loss: 2.2909e-04 - val_loss: 2.4162\n",
            "Epoch 499/500\n",
            "21/21 [==============================] - 0s 4ms/step - loss: 2.1580e-04 - val_loss: 2.4165\n",
            "Epoch 500/500\n",
            "21/21 [==============================] - 0s 3ms/step - loss: 2.1995e-04 - val_loss: 2.4198\n"
          ]
        },
        {
          "output_type": "execute_result",
          "data": {
            "text/plain": [
              "<keras.callbacks.History at 0x7f4a9c8f9590>"
            ]
          },
          "metadata": {},
          "execution_count": 67
        }
      ]
    },
    {
      "cell_type": "code",
      "metadata": {
        "id": "aih_-xAa7ZK-"
      },
      "source": [
        "loss = model.history.history"
      ],
      "execution_count": 69,
      "outputs": []
    },
    {
      "cell_type": "code",
      "metadata": {
        "id": "Q4cvkCMLB6me",
        "colab": {
          "base_uri": "https://localhost:8080/",
          "height": 284
        },
        "outputId": "d07f7a7d-2df0-4419-b37a-6f05844dc763"
      },
      "source": [
        "loss_pd = pd.DataFrame(data=loss)\n",
        "loss_pd.plot()"
      ],
      "execution_count": 70,
      "outputs": [
        {
          "output_type": "execute_result",
          "data": {
            "text/plain": [
              "<matplotlib.axes._subplots.AxesSubplot at 0x7f4a3018e590>"
            ]
          },
          "metadata": {},
          "execution_count": 70
        },
        {
          "output_type": "display_data",
          "data": {
            "image/png": "[encoded data removed]",
            "text/plain": [
              "<Figure size 432x288 with 1 Axes>"
            ]
          },
          "metadata": {
            "needs_background": "light"
          }
        }
      ]
    },
    {
      "cell_type": "code",
      "metadata": {
        "id": "LhIiQZG-7wVV"
      },
      "source": [
        "from tensorflow.keras.layers import Dropout\n",
        "from tensorflow.keras.callbacks import  EarlyStopping"
      ],
      "execution_count": 76,
      "outputs": []
    },
    {
      "cell_type": "code",
      "metadata": {
        "id": "xviMZdJ16C0m"
      },
      "source": [
        "model = Sequential()\n",
        "model.add(Dense(20,activation ='relu'))\n",
        "model.add(Dropout(rate=0.5))\n",
        "model.add(Dense(20,activation='relu'))\n",
        "model.add(Dropout(rate=0.5))\n",
        "model.add(Dense(10,activation='relu'))\n",
        "model.add(Dropout(rate=0.5))\n",
        "model.add(Dense(1,activation='sigmoid'))"
      ],
      "execution_count": 77,
      "outputs": []
    },
    {
      "cell_type": "code",
      "metadata": {
        "id": "wMO42qRs7EqR"
      },
      "source": [
        "model.compile(optimizer='adam',loss='binary_crossentropy')"
      ],
      "execution_count": 78,
      "outputs": []
    },
    {
      "cell_type": "code",
      "metadata": {
        "id": "mgwiMON77com"
      },
      "source": [
        "earlystop = EarlyStopping(monitor='val_loss',patience=25,verbose=1,mode='min')"
      ],
      "execution_count": 79,
      "outputs": []
    },
    {
      "cell_type": "code",
      "metadata": {
        "colab": {
          "base_uri": "https://localhost:8080/"
        },
        "id": "0jSCP5Gq77Zk",
        "outputId": "59a78f50-57cc-491f-f4d4-4c3da20fa3b1"
      },
      "source": [
        "model.fit(X_train,y_train,epochs=250,verbose=1,callbacks=[earlystop],validation_data=(X_test,y_test))"
      ],
      "execution_count": 80,
      "outputs": [
        {
          "output_type": "stream",
          "name": "stdout",
          "text": [
            "Epoch 1/250\n",
            "21/21 [==============================] - 1s 10ms/step - loss: 0.8525 - val_loss: 0.6795\n",
            "Epoch 2/250\n",
            "21/21 [==============================] - 0s 4ms/step - loss: 0.8403 - val_loss: 0.6595\n",
            "Epoch 3/250\n",
            "21/21 [==============================] - 0s 4ms/step - loss: 0.7771 - val_loss: 0.6479\n",
            "Epoch 4/250\n",
            "21/21 [==============================] - 0s 3ms/step - loss: 0.7130 - val_loss: 0.6403\n",
            "Epoch 5/250\n",
            "21/21 [==============================] - 0s 4ms/step - loss: 0.7149 - val_loss: 0.6343\n",
            "Epoch 6/250\n",
            "21/21 [==============================] - 0s 4ms/step - loss: 0.7021 - val_loss: 0.6309\n",
            "Epoch 7/250\n",
            "21/21 [==============================] - 0s 4ms/step - loss: 0.7017 - val_loss: 0.6289\n",
            "Epoch 8/250\n",
            "21/21 [==============================] - 0s 4ms/step - loss: 0.6739 - val_loss: 0.6242\n",
            "Epoch 9/250\n",
            "21/21 [==============================] - 0s 4ms/step - loss: 0.6613 - val_loss: 0.6170\n",
            "Epoch 10/250\n",
            "21/21 [==============================] - 0s 4ms/step - loss: 0.6507 - val_loss: 0.6083\n",
            "Epoch 11/250\n",
            "21/21 [==============================] - 0s 3ms/step - loss: 0.6409 - val_loss: 0.5967\n",
            "Epoch 12/250\n",
            "21/21 [==============================] - 0s 4ms/step - loss: 0.6175 - val_loss: 0.5842\n",
            "Epoch 13/250\n",
            "21/21 [==============================] - 0s 3ms/step - loss: 0.6062 - val_loss: 0.5691\n",
            "Epoch 14/250\n",
            "21/21 [==============================] - 0s 4ms/step - loss: 0.6061 - val_loss: 0.5526\n",
            "Epoch 15/250\n",
            "21/21 [==============================] - 0s 4ms/step - loss: 0.6029 - val_loss: 0.5361\n",
            "Epoch 16/250\n",
            "21/21 [==============================] - 0s 4ms/step - loss: 0.5837 - val_loss: 0.5220\n",
            "Epoch 17/250\n",
            "21/21 [==============================] - 0s 4ms/step - loss: 0.5820 - val_loss: 0.5079\n",
            "Epoch 18/250\n",
            "21/21 [==============================] - 0s 4ms/step - loss: 0.5767 - val_loss: 0.4943\n",
            "Epoch 19/250\n",
            "21/21 [==============================] - 0s 3ms/step - loss: 0.5918 - val_loss: 0.4794\n",
            "Epoch 20/250\n",
            "21/21 [==============================] - 0s 3ms/step - loss: 0.5473 - val_loss: 0.4585\n",
            "Epoch 21/250\n",
            "21/21 [==============================] - 0s 4ms/step - loss: 0.5257 - val_loss: 0.4380\n",
            "Epoch 22/250\n",
            "21/21 [==============================] - 0s 3ms/step - loss: 0.5405 - val_loss: 0.4249\n",
            "Epoch 23/250\n",
            "21/21 [==============================] - 0s 4ms/step - loss: 0.5577 - val_loss: 0.4156\n",
            "Epoch 24/250\n",
            "21/21 [==============================] - 0s 4ms/step - loss: 0.5463 - val_loss: 0.4107\n",
            "Epoch 25/250\n",
            "21/21 [==============================] - 0s 4ms/step - loss: 0.4783 - val_loss: 0.3967\n",
            "Epoch 26/250\n",
            "21/21 [==============================] - 0s 4ms/step - loss: 0.4641 - val_loss: 0.3845\n",
            "Epoch 27/250\n",
            "21/21 [==============================] - 0s 5ms/step - loss: 0.5375 - val_loss: 0.3828\n",
            "Epoch 28/250\n",
            "21/21 [==============================] - 0s 6ms/step - loss: 0.4471 - val_loss: 0.3773\n",
            "Epoch 29/250\n",
            "21/21 [==============================] - 0s 5ms/step - loss: 0.4979 - val_loss: 0.3739\n",
            "Epoch 30/250\n",
            "21/21 [==============================] - 0s 5ms/step - loss: 0.4467 - val_loss: 0.3691\n",
            "Epoch 31/250\n",
            "21/21 [==============================] - 0s 5ms/step - loss: 0.4655 - val_loss: 0.3727\n",
            "Epoch 32/250\n",
            "21/21 [==============================] - 0s 4ms/step - loss: 0.4373 - val_loss: 0.3677\n",
            "Epoch 33/250\n",
            "21/21 [==============================] - 0s 5ms/step - loss: 0.4928 - val_loss: 0.3672\n",
            "Epoch 34/250\n",
            "21/21 [==============================] - 0s 5ms/step - loss: 0.4401 - val_loss: 0.3655\n",
            "Epoch 35/250\n",
            "21/21 [==============================] - 0s 6ms/step - loss: 0.4659 - val_loss: 0.3640\n",
            "Epoch 36/250\n",
            "21/21 [==============================] - 0s 5ms/step - loss: 0.4432 - val_loss: 0.3625\n",
            "Epoch 37/250\n",
            "21/21 [==============================] - 0s 4ms/step - loss: 0.4481 - val_loss: 0.3621\n",
            "Epoch 38/250\n",
            "21/21 [==============================] - 0s 4ms/step - loss: 0.4220 - val_loss: 0.3614\n",
            "Epoch 39/250\n",
            "21/21 [==============================] - 0s 4ms/step - loss: 0.4247 - val_loss: 0.3612\n",
            "Epoch 40/250\n",
            "21/21 [==============================] - 0s 4ms/step - loss: 0.4243 - val_loss: 0.3607\n",
            "Epoch 41/250\n",
            "21/21 [==============================] - 0s 4ms/step - loss: 0.4359 - val_loss: 0.3602\n",
            "Epoch 42/250\n",
            "21/21 [==============================] - 0s 4ms/step - loss: 0.4426 - val_loss: 0.3604\n",
            "Epoch 43/250\n",
            "21/21 [==============================] - 0s 4ms/step - loss: 0.4253 - val_loss: 0.3601\n",
            "Epoch 44/250\n",
            "21/21 [==============================] - 0s 5ms/step - loss: 0.4142 - val_loss: 0.3597\n",
            "Epoch 45/250\n",
            "21/21 [==============================] - 0s 4ms/step - loss: 0.4204 - val_loss: 0.3595\n",
            "Epoch 46/250\n",
            "21/21 [==============================] - 0s 3ms/step - loss: 0.4518 - val_loss: 0.3601\n",
            "Epoch 47/250\n",
            "21/21 [==============================] - 0s 4ms/step - loss: 0.4442 - val_loss: 0.3605\n",
            "Epoch 48/250\n",
            "21/21 [==============================] - 0s 3ms/step - loss: 0.4053 - val_loss: 0.3604\n",
            "Epoch 49/250\n",
            "21/21 [==============================] - 0s 4ms/step - loss: 0.4553 - val_loss: 0.3614\n",
            "Epoch 50/250\n",
            "21/21 [==============================] - 0s 4ms/step - loss: 0.4109 - val_loss: 0.3614\n",
            "Epoch 51/250\n",
            "21/21 [==============================] - 0s 4ms/step - loss: 0.4498 - val_loss: 0.3621\n",
            "Epoch 52/250\n",
            "21/21 [==============================] - 0s 3ms/step - loss: 0.4483 - val_loss: 0.3625\n",
            "Epoch 53/250\n",
            "21/21 [==============================] - 0s 3ms/step - loss: 0.4092 - val_loss: 0.3630\n",
            "Epoch 54/250\n",
            "21/21 [==============================] - 0s 3ms/step - loss: 0.4392 - val_loss: 0.3611\n",
            "Epoch 55/250\n",
            "21/21 [==============================] - 0s 3ms/step - loss: 0.3873 - val_loss: 0.3599\n",
            "Epoch 56/250\n",
            "21/21 [==============================] - 0s 4ms/step - loss: 0.3996 - val_loss: 0.3595\n",
            "Epoch 57/250\n",
            "21/21 [==============================] - 0s 3ms/step - loss: 0.4217 - val_loss: 0.3604\n",
            "Epoch 58/250\n",
            "21/21 [==============================] - 0s 3ms/step - loss: 0.4067 - val_loss: 0.3621\n",
            "Epoch 59/250\n",
            "21/21 [==============================] - 0s 3ms/step - loss: 0.3937 - val_loss: 0.3639\n",
            "Epoch 60/250\n",
            "21/21 [==============================] - 0s 4ms/step - loss: 0.3974 - val_loss: 0.3654\n",
            "Epoch 61/250\n",
            "21/21 [==============================] - 0s 3ms/step - loss: 0.4012 - val_loss: 0.3670\n",
            "Epoch 62/250\n",
            "21/21 [==============================] - 0s 4ms/step - loss: 0.4186 - val_loss: 0.3667\n",
            "Epoch 63/250\n",
            "21/21 [==============================] - 0s 3ms/step - loss: 0.3809 - val_loss: 0.3671\n",
            "Epoch 64/250\n",
            "21/21 [==============================] - 0s 4ms/step - loss: 0.4199 - val_loss: 0.3677\n",
            "Epoch 65/250\n",
            "21/21 [==============================] - 0s 3ms/step - loss: 0.3974 - val_loss: 0.3672\n",
            "Epoch 66/250\n",
            "21/21 [==============================] - 0s 3ms/step - loss: 0.4021 - val_loss: 0.3667\n",
            "Epoch 67/250\n",
            "21/21 [==============================] - 0s 4ms/step - loss: 0.4381 - val_loss: 0.3664\n",
            "Epoch 68/250\n",
            "21/21 [==============================] - 0s 3ms/step - loss: 0.3970 - val_loss: 0.3648\n",
            "Epoch 69/250\n",
            "21/21 [==============================] - 0s 4ms/step - loss: 0.4181 - val_loss: 0.3626\n",
            "Epoch 70/250\n",
            "21/21 [==============================] - 0s 3ms/step - loss: 0.3969 - val_loss: 0.3638\n",
            "Epoch 00070: early stopping\n"
          ]
        },
        {
          "output_type": "execute_result",
          "data": {
            "text/plain": [
              "<keras.callbacks.History at 0x7f4a2fffe2d0>"
            ]
          },
          "metadata": {},
          "execution_count": 80
        }
      ]
    },
    {
      "cell_type": "code",
      "metadata": {
        "colab": {
          "base_uri": "https://localhost:8080/",
          "height": 282
        },
        "id": "XFAhr4ud8S1c",
        "outputId": "70082507-0093-48b0-b5cd-31005f677d0a"
      },
      "source": [
        "loss = model.history.history\n",
        "loss_pd = pd.DataFrame(loss)\n",
        "loss_pd.plot()"
      ],
      "execution_count": 82,
      "outputs": [
        {
          "output_type": "execute_result",
          "data": {
            "text/plain": [
              "<matplotlib.axes._subplots.AxesSubplot at 0x7f4a2edb5c50>"
            ]
          },
          "metadata": {},
          "execution_count": 82
        },
        {
          "output_type": "display_data",
          "data": {
            "image/png": "[encoded data removed]",
            "text/plain": [
              "<Figure size 432x288 with 1 Axes>"
            ]
          },
          "metadata": {
            "needs_background": "light"
          }
        }
      ]
    },
    {
      "cell_type": "code",
      "metadata": {
        "id": "5XPP9UfY8fIF"
      },
      "source": [
        "predictions = model.predict(X_test)"
      ],
      "execution_count": 83,
      "outputs": []
    },
    {
      "cell_type": "code",
      "metadata": {
        "colab": {
          "base_uri": "https://localhost:8080/"
        },
        "id": "P5gCZw6r8tUw",
        "outputId": "fbbc03ef-6fb4-4763-c580-fad38e92430b"
      },
      "source": [
        "predictions = np.round(predictions).astype(int)\n",
        "predictions"
      ],
      "execution_count": 86,
      "outputs": [
        {
          "output_type": "execute_result",
          "data": {
            "text/plain": [
              "array([[0],\n",
              "       [1],\n",
              "       [0],\n",
              "       [1],\n",
              "       [1],\n",
              "       [1],\n",
              "       [0],\n",
              "       [0],\n",
              "       [1],\n",
              "       [0],\n",
              "       [1],\n",
              "       [1],\n",
              "       [0],\n",
              "       [1],\n",
              "       [1],\n",
              "       [0],\n",
              "       [1],\n",
              "       [0],\n",
              "       [1],\n",
              "       [1],\n",
              "       [1],\n",
              "       [0],\n",
              "       [0],\n",
              "       [0],\n",
              "       [0],\n",
              "       [0],\n",
              "       [1],\n",
              "       [0],\n",
              "       [0],\n",
              "       [0],\n",
              "       [1],\n",
              "       [1],\n",
              "       [1],\n",
              "       [0],\n",
              "       [0],\n",
              "       [1],\n",
              "       [0],\n",
              "       [1],\n",
              "       [0],\n",
              "       [1],\n",
              "       [0],\n",
              "       [0],\n",
              "       [0],\n",
              "       [1],\n",
              "       [0],\n",
              "       [1],\n",
              "       [1],\n",
              "       [1],\n",
              "       [0],\n",
              "       [0],\n",
              "       [1],\n",
              "       [1],\n",
              "       [1],\n",
              "       [1],\n",
              "       [1],\n",
              "       [1],\n",
              "       [1],\n",
              "       [0],\n",
              "       [1],\n",
              "       [1],\n",
              "       [0],\n",
              "       [1],\n",
              "       [0],\n",
              "       [1],\n",
              "       [1],\n",
              "       [1],\n",
              "       [1],\n",
              "       [0],\n",
              "       [0],\n",
              "       [0],\n",
              "       [1],\n",
              "       [1],\n",
              "       [1],\n",
              "       [0],\n",
              "       [1],\n",
              "       [1],\n",
              "       [0],\n",
              "       [1],\n",
              "       [0],\n",
              "       [0],\n",
              "       [1],\n",
              "       [1],\n",
              "       [0],\n",
              "       [0],\n",
              "       [1],\n",
              "       [1],\n",
              "       [0],\n",
              "       [1],\n",
              "       [1],\n",
              "       [0],\n",
              "       [0],\n",
              "       [0],\n",
              "       [1],\n",
              "       [0],\n",
              "       [0],\n",
              "       [0],\n",
              "       [1],\n",
              "       [1],\n",
              "       [0],\n",
              "       [1],\n",
              "       [1],\n",
              "       [0],\n",
              "       [0],\n",
              "       [1],\n",
              "       [0],\n",
              "       [1],\n",
              "       [0],\n",
              "       [1],\n",
              "       [1],\n",
              "       [1],\n",
              "       [1],\n",
              "       [0],\n",
              "       [0],\n",
              "       [1],\n",
              "       [1],\n",
              "       [0],\n",
              "       [1],\n",
              "       [1],\n",
              "       [0],\n",
              "       [0],\n",
              "       [0],\n",
              "       [0],\n",
              "       [0],\n",
              "       [1],\n",
              "       [1],\n",
              "       [0],\n",
              "       [0],\n",
              "       [1],\n",
              "       [0],\n",
              "       [1],\n",
              "       [1],\n",
              "       [1],\n",
              "       [1],\n",
              "       [0],\n",
              "       [0],\n",
              "       [1],\n",
              "       [0],\n",
              "       [1],\n",
              "       [1],\n",
              "       [0],\n",
              "       [0],\n",
              "       [1],\n",
              "       [1],\n",
              "       [1],\n",
              "       [1],\n",
              "       [1],\n",
              "       [1],\n",
              "       [1],\n",
              "       [1],\n",
              "       [1],\n",
              "       [1],\n",
              "       [1],\n",
              "       [0],\n",
              "       [1],\n",
              "       [1],\n",
              "       [0],\n",
              "       [1],\n",
              "       [0],\n",
              "       [1],\n",
              "       [0],\n",
              "       [0],\n",
              "       [1],\n",
              "       [0],\n",
              "       [1],\n",
              "       [1],\n",
              "       [1],\n",
              "       [1],\n",
              "       [0],\n",
              "       [1],\n",
              "       [1],\n",
              "       [1],\n",
              "       [0],\n",
              "       [1],\n",
              "       [1],\n",
              "       [1],\n",
              "       [1],\n",
              "       [1],\n",
              "       [1],\n",
              "       [1],\n",
              "       [0],\n",
              "       [0],\n",
              "       [1],\n",
              "       [0],\n",
              "       [1],\n",
              "       [0],\n",
              "       [0],\n",
              "       [0],\n",
              "       [1],\n",
              "       [1],\n",
              "       [1],\n",
              "       [0],\n",
              "       [1],\n",
              "       [1],\n",
              "       [1],\n",
              "       [1],\n",
              "       [0],\n",
              "       [1],\n",
              "       [1],\n",
              "       [0],\n",
              "       [0],\n",
              "       [1],\n",
              "       [1],\n",
              "       [1],\n",
              "       [0],\n",
              "       [1],\n",
              "       [1],\n",
              "       [0],\n",
              "       [1],\n",
              "       [0],\n",
              "       [1],\n",
              "       [0],\n",
              "       [0],\n",
              "       [0],\n",
              "       [1],\n",
              "       [1],\n",
              "       [0],\n",
              "       [1],\n",
              "       [0],\n",
              "       [1],\n",
              "       [0],\n",
              "       [0],\n",
              "       [0],\n",
              "       [0],\n",
              "       [1],\n",
              "       [1],\n",
              "       [0],\n",
              "       [0],\n",
              "       [1],\n",
              "       [1],\n",
              "       [0],\n",
              "       [1],\n",
              "       [0],\n",
              "       [0],\n",
              "       [1],\n",
              "       [1],\n",
              "       [0],\n",
              "       [1],\n",
              "       [1],\n",
              "       [0],\n",
              "       [1],\n",
              "       [1],\n",
              "       [1],\n",
              "       [1],\n",
              "       [1],\n",
              "       [1],\n",
              "       [0],\n",
              "       [1],\n",
              "       [1],\n",
              "       [1],\n",
              "       [1],\n",
              "       [1],\n",
              "       [0],\n",
              "       [0],\n",
              "       [1],\n",
              "       [0],\n",
              "       [1],\n",
              "       [1],\n",
              "       [1],\n",
              "       [1],\n",
              "       [0],\n",
              "       [0],\n",
              "       [1],\n",
              "       [0],\n",
              "       [0],\n",
              "       [1],\n",
              "       [1],\n",
              "       [1],\n",
              "       [0],\n",
              "       [0],\n",
              "       [1],\n",
              "       [1],\n",
              "       [1],\n",
              "       [0],\n",
              "       [0],\n",
              "       [0],\n",
              "       [1]])"
            ]
          },
          "metadata": {},
          "execution_count": 86
        }
      ]
    },
    {
      "cell_type": "code",
      "metadata": {
        "id": "pUlE8gmM8vR1"
      },
      "source": [
        "from sklearn.metrics import classification_report,confusion_matrix,roc_auc_score"
      ],
      "execution_count": 92,
      "outputs": []
    },
    {
      "cell_type": "code",
      "metadata": {
        "colab": {
          "base_uri": "https://localhost:8080/"
        },
        "id": "Ci9YumrQ9BYM",
        "outputId": "65ac0587-4c06-40ab-e61b-31226bf7d740"
      },
      "source": [
        "print(classification_report(y_test,predictions))"
      ],
      "execution_count": 93,
      "outputs": [
        {
          "output_type": "stream",
          "name": "stdout",
          "text": [
            "              precision    recall  f1-score   support\n",
            "\n",
            "           0       0.84      0.78      0.81       126\n",
            "           1       0.82      0.88      0.85       150\n",
            "\n",
            "    accuracy                           0.83       276\n",
            "   macro avg       0.83      0.83      0.83       276\n",
            "weighted avg       0.83      0.83      0.83       276\n",
            "\n"
          ]
        }
      ]
    },
    {
      "cell_type": "code",
      "metadata": {
        "colab": {
          "base_uri": "https://localhost:8080/"
        },
        "id": "Oxw-_cVp9FVc",
        "outputId": "a9bfa909-2a25-46a4-bc33-a10e5d59f163"
      },
      "source": [
        "print(confusion_matrix(y_test,predictions))"
      ],
      "execution_count": 94,
      "outputs": [
        {
          "output_type": "stream",
          "name": "stdout",
          "text": [
            "[[ 98  28]\n",
            " [ 18 132]]\n"
          ]
        }
      ]
    },
    {
      "cell_type": "code",
      "metadata": {
        "colab": {
          "base_uri": "https://localhost:8080/"
        },
        "id": "IHA2C1zI9Rw0",
        "outputId": "9db1e25b-0112-485b-8dbf-1bf452c3cdfb"
      },
      "source": [
        "print(roc_auc_score(y_test,predictions))"
      ],
      "execution_count": 95,
      "outputs": [
        {
          "output_type": "stream",
          "name": "stdout",
          "text": [
            "0.8288888888888888\n"
          ]
        }
      ]
    },
    {
      "cell_type": "code",
      "metadata": {
        "id": "WQdAhD7w9ZMA"
      },
      "source": [
        ""
      ],
      "execution_count": null,
      "outputs": []
    }
  ]
}